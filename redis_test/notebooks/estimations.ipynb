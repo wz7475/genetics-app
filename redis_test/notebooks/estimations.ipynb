{
 "cells": [
  {
   "cell_type": "markdown",
   "source": [
    "number of SNV variants"
   ],
   "metadata": {
    "collapsed": false
   },
   "id": "91ed5ce431fae968"
  },
  {
   "cell_type": "code",
   "execution_count": 1,
   "id": "initial_id",
   "metadata": {
    "collapsed": true,
    "ExecuteTime": {
     "end_time": "2023-12-10T10:54:22.689234427Z",
     "start_time": "2023-12-10T10:54:22.640399030Z"
    }
   },
   "outputs": [
    {
     "data": {
      "text/plain": "36000000000.0"
     },
     "execution_count": 1,
     "metadata": {},
     "output_type": "execute_result"
    }
   ],
   "source": [
    "# Constants\n",
    "number_of_chromosomes = 24  # 22 autosomes, X and Y\n",
    "average_chromosome_size = 3e9 / number_of_chromosomes  # Approximate average size of a chromosome\n",
    "reference_alleles = 4  # A, T, C, G\n",
    "alternative_alleles = 3  # Other than the reference\n",
    "\n",
    "# Calculating the total number of SNV combinations\n",
    "total_snv_combinations = number_of_chromosomes * average_chromosome_size * reference_alleles * alternative_alleles\n",
    "total_snv_combinations"
   ]
  },
  {
   "cell_type": "code",
   "execution_count": 2,
   "outputs": [
    {
     "name": "stdout",
     "output_type": "stream",
     "text": [
      "milardów wariantów: 36.0\n"
     ]
    }
   ],
   "source": [
    "print(f\"milardów wariantów: {total_snv_combinations / 1e9}\")"
   ],
   "metadata": {
    "collapsed": false,
    "ExecuteTime": {
     "end_time": "2023-12-10T10:54:22.689933791Z",
     "start_time": "2023-12-10T10:54:22.684783362Z"
    }
   },
   "id": "fa8d788a581e471f"
  },
  {
   "cell_type": "markdown",
   "source": [
    "space complexity of annotated variant in redis\n",
    "```python\n",
    "def insert_random_record(r):\n",
    "    value = \"-15:0.8100000023841858|-2:-0.8500000238418579|Warnings:\"\n",
    "    key = f\"{uuid4()}\"\n",
    "    r.hset(\n",
    "        key,\n",
    "        mapping={\n",
    "            \"alg1\": value,\n",
    "            \"alg2\": value,\n",
    "        },\n",
    "    )\n",
    "```"
   ],
   "metadata": {
    "collapsed": false
   },
   "id": "e12b65f08a8ec06b"
  },
  {
   "cell_type": "code",
   "execution_count": 3,
   "outputs": [
    {
     "data": {
      "text/plain": "9000000.0"
     },
     "execution_count": 3,
     "metadata": {},
     "output_type": "execute_result"
    }
   ],
   "source": [
    "num_of_records_in_batch = 1_000_000\n",
    "weight_of_batch_in_MB = 250\n",
    "\n",
    "weight_of_all_records_in_MB = weight_of_batch_in_MB * (total_snv_combinations / num_of_records_in_batch)\n",
    "weight_of_all_records_in_MB"
   ],
   "metadata": {
    "collapsed": false,
    "ExecuteTime": {
     "end_time": "2023-12-10T10:54:22.690450901Z",
     "start_time": "2023-12-10T10:54:22.687935041Z"
    }
   },
   "id": "720344e93713fe15"
  },
  {
   "cell_type": "code",
   "execution_count": 4,
   "outputs": [
    {
     "data": {
      "text/plain": "9000.0"
     },
     "execution_count": 4,
     "metadata": {},
     "output_type": "execute_result"
    }
   ],
   "source": [
    "weight_of_all_records_in_GB = weight_of_all_records_in_MB / 1000\n",
    "weight_of_all_records_in_GB"
   ],
   "metadata": {
    "collapsed": false,
    "ExecuteTime": {
     "end_time": "2023-12-10T10:54:22.691220331Z",
     "start_time": "2023-12-10T10:54:22.688221192Z"
    }
   },
   "id": "1ec5bbc325232e5"
  },
  {
   "cell_type": "code",
   "execution_count": 5,
   "outputs": [
    {
     "data": {
      "text/plain": "0.25"
     },
     "execution_count": 5,
     "metadata": {},
     "output_type": "execute_result"
    }
   ],
   "source": [
    "weight_of_onr_record =  weight_of_batch_in_MB / num_of_records_in_batch\n",
    "weight_of_onr_record_in_KB = weight_of_onr_record * 1000\n",
    "weight_of_onr_record_in_KB"
   ],
   "metadata": {
    "collapsed": false,
    "ExecuteTime": {
     "end_time": "2023-12-10T10:54:22.691649465Z",
     "start_time": "2023-12-10T10:54:22.688410177Z"
    }
   },
   "id": "bbb3bc6edb4d035c"
  },
  {
   "cell_type": "code",
   "execution_count": 6,
   "outputs": [
    {
     "data": {
      "text/plain": "(13, 6)"
     },
     "execution_count": 6,
     "metadata": {},
     "output_type": "execute_result"
    }
   ],
   "source": [
    "len(\"abcabcabcaaaa\"), len(\"bike:6\")"
   ],
   "metadata": {
    "collapsed": false,
    "ExecuteTime": {
     "end_time": "2023-12-10T10:55:09.428248671Z",
     "start_time": "2023-12-10T10:55:09.384382420Z"
    }
   },
   "id": "ce0db2605efb7afc"
  }
 ],
 "metadata": {
  "kernelspec": {
   "display_name": "Python 3",
   "language": "python",
   "name": "python3"
  },
  "language_info": {
   "codemirror_mode": {
    "name": "ipython",
    "version": 2
   },
   "file_extension": ".py",
   "mimetype": "text/x-python",
   "name": "python",
   "nbconvert_exporter": "python",
   "pygments_lexer": "ipython2",
   "version": "2.7.6"
  }
 },
 "nbformat": 4,
 "nbformat_minor": 5
}
