{
 "cells": [
  {
   "cell_type": "code",
   "execution_count": 14,
   "id": "initial_id",
   "metadata": {
    "collapsed": true,
    "ExecuteTime": {
     "end_time": "2023-12-10T11:04:13.492212081Z",
     "start_time": "2023-12-10T11:04:13.484412986Z"
    }
   },
   "outputs": [],
   "source": [
    "import random\n",
    "import string\n",
    "\n",
    "import redis"
   ]
  },
  {
   "cell_type": "code",
   "execution_count": 3,
   "outputs": [],
   "source": [
    "r = redis.Redis(host='localhost', port=6379)"
   ],
   "metadata": {
    "collapsed": false,
    "ExecuteTime": {
     "end_time": "2023-12-10T10:58:55.552541673Z",
     "start_time": "2023-12-10T10:58:55.548541903Z"
    }
   },
   "id": "62d4cf105e3dd0c4"
  },
  {
   "cell_type": "code",
   "execution_count": 52,
   "outputs": [
    {
     "data": {
      "text/plain": "'WqhguhPFoycMOZILzn'"
     },
     "execution_count": 52,
     "metadata": {},
     "output_type": "execute_result"
    }
   ],
   "source": [
    "variant = \"chr10:10403244:A:C\"\n",
    "def get_random_string(length):\n",
    "    return ''.join(random.choices(string.ascii_letters, k=length))\n",
    "    \n",
    "get_random_string(length=len(variant))"
   ],
   "metadata": {
    "collapsed": false,
    "ExecuteTime": {
     "end_time": "2023-12-10T11:31:11.684032997Z",
     "start_time": "2023-12-10T11:31:11.641342056Z"
    }
   },
   "id": "78dd033680e0e8a0"
  },
  {
   "cell_type": "code",
   "execution_count": 46,
   "outputs": [
    {
     "data": {
      "text/plain": "    gene  CHROM       POS REF ALT  \\\n0  BRCA1     17  41276135   T   G   \n1  BRCA1     17  41276135   T   C   \n2  BRCA1     17  41276135   T   A   \n3  BRCA1     17  41276134   T   G   \n4  BRCA1     17  41276134   T   C   \n\n                                            Pangolin  \n0     ENSG00000012048.23_1|-46:0.0|-45:0.0|Warnings:  \n1  ENSG00000012048.23_1|-1:0.8600000143051147|-3:...  \n2     ENSG00000012048.23_1|-46:0.0|-45:0.0|Warnings:  \n3  ENSG00000012048.23_1|-15:0.8100000023841858|-2...  \n4  ENSG00000012048.23_1|-1:0.8600000143051147|-2:...  ",
      "text/html": "<div>\n<style scoped>\n    .dataframe tbody tr th:only-of-type {\n        vertical-align: middle;\n    }\n\n    .dataframe tbody tr th {\n        vertical-align: top;\n    }\n\n    .dataframe thead th {\n        text-align: right;\n    }\n</style>\n<table border=\"1\" class=\"dataframe\">\n  <thead>\n    <tr style=\"text-align: right;\">\n      <th></th>\n      <th>gene</th>\n      <th>CHROM</th>\n      <th>POS</th>\n      <th>REF</th>\n      <th>ALT</th>\n      <th>Pangolin</th>\n    </tr>\n  </thead>\n  <tbody>\n    <tr>\n      <th>0</th>\n      <td>BRCA1</td>\n      <td>17</td>\n      <td>41276135</td>\n      <td>T</td>\n      <td>G</td>\n      <td>ENSG00000012048.23_1|-46:0.0|-45:0.0|Warnings:</td>\n    </tr>\n    <tr>\n      <th>1</th>\n      <td>BRCA1</td>\n      <td>17</td>\n      <td>41276135</td>\n      <td>T</td>\n      <td>C</td>\n      <td>ENSG00000012048.23_1|-1:0.8600000143051147|-3:...</td>\n    </tr>\n    <tr>\n      <th>2</th>\n      <td>BRCA1</td>\n      <td>17</td>\n      <td>41276135</td>\n      <td>T</td>\n      <td>A</td>\n      <td>ENSG00000012048.23_1|-46:0.0|-45:0.0|Warnings:</td>\n    </tr>\n    <tr>\n      <th>3</th>\n      <td>BRCA1</td>\n      <td>17</td>\n      <td>41276134</td>\n      <td>T</td>\n      <td>G</td>\n      <td>ENSG00000012048.23_1|-15:0.8100000023841858|-2...</td>\n    </tr>\n    <tr>\n      <th>4</th>\n      <td>BRCA1</td>\n      <td>17</td>\n      <td>41276134</td>\n      <td>T</td>\n      <td>C</td>\n      <td>ENSG00000012048.23_1|-1:0.8600000143051147|-2:...</td>\n    </tr>\n  </tbody>\n</table>\n</div>"
     },
     "execution_count": 46,
     "metadata": {},
     "output_type": "execute_result"
    }
   ],
   "source": [
    "import pandas as pd\n",
    "\n",
    "df_pangolin = pd.read_csv(\"brca.pangolin.csv\")\n",
    "df_pangolin.head()"
   ],
   "metadata": {
    "collapsed": false,
    "ExecuteTime": {
     "end_time": "2023-12-10T11:27:42.944694350Z",
     "start_time": "2023-12-10T11:27:42.899006441Z"
    }
   },
   "id": "8cefb04803d68e30"
  },
  {
   "cell_type": "code",
   "execution_count": 39,
   "outputs": [],
   "source": [
    "def get_min_avg_len(df, column):\n",
    "    avg_len = df[column].str.len().mean()\n",
    "    avg_len = int(round(avg_len, 0))\n",
    "    max_len = df[column].str.len().max()\n",
    "    min_len = df[column].str.len().min()\n",
    "    return  min_len, avg_len, max_len"
   ],
   "metadata": {
    "collapsed": false,
    "ExecuteTime": {
     "end_time": "2023-12-10T11:24:55.488842411Z",
     "start_time": "2023-12-10T11:24:55.446906082Z"
    }
   },
   "id": "b3d2657320d6d1d7"
  },
  {
   "cell_type": "code",
   "execution_count": 48,
   "outputs": [
    {
     "name": "stdout",
     "output_type": "stream",
     "text": [
      "pangolin: 44, 68, 78\n"
     ]
    }
   ],
   "source": [
    "pangolin_min, pangolin_avg, pangolin_max = get_min_avg_len(df_pangolin, \"Pangolin\")\n",
    "print(f\"pangolin: {pangolin_min}, {pangolin_avg}, {pangolin_max}\")"
   ],
   "metadata": {
    "collapsed": false,
    "ExecuteTime": {
     "end_time": "2023-12-10T11:28:12.041193635Z",
     "start_time": "2023-12-10T11:28:11.997097711Z"
    }
   },
   "id": "da9490a363dbb574"
  },
  {
   "cell_type": "code",
   "execution_count": 49,
   "outputs": [
    {
     "data": {
      "text/plain": "  gene                          varID Interpretation  \\\n0  NF1            NM_000267:c.1000del            NTR   \n1  NF1  NM_000267:c.1007_1008delinsAA            NTR   \n2  NF1            NM_000267:c.1007G>A      Alter ESR   \n3  NF1            NM_000267:c.1008G>A            NTR   \n4  NF1            NM_000267:c.1016del            NTR   \n\n                InterConfident  SPiPscore strand             gNomen  \\\n0   05.1 % [02.47 % - 09.18 %]      0.014      +  29527551_29527551   \n1  04.35 % [02.01 % - 08.09 %]      0.008      +  29527558_29527559   \n2  98.54 % [94.83 % - 99.82 %]      0.862      +           29527558   \n3  04.35 % [02.01 % - 08.09 %]      0.012      +           29527559   \n4  04.35 % [02.01 % - 08.09 %]      0.020      +  29527567_29527567   \n\n        varType  ntChange ExonInfo  ...  nearestPosSStoCrypt  \\\n0           del       del   Exon 9  ...             29527613   \n1        delins  delinsAA   Exon 9  ...             29527613   \n2  substitution       G>A   Exon 9  ...             29527613   \n3  substitution       G>A   Exon 9  ...             29527613   \n4           del       del   Exon 9  ...             29527613   \n\n  nearestDistSStoCrypt posCryptWT probaCryptWT  classProbaCryptWT posSSPhysio  \\\n0                  -51   29527563     0.000023                 No    29527439   \n1                  -54   29527563     0.000023                 No    29527439   \n2                  -55   29527563     0.000023                 No    29527439   \n3                  -54   29527563     0.000023                 No    29527439   \n4                  -51   29527563     0.000023                 No    29527439   \n\n   probaSSPhysio classProbaSSPhysio  probaSSPhysioMut  classProbaSSPhysioMut  \n0       0.005161                 No          0.005161                     No  \n1       0.005161                 No          0.005161                     No  \n2       0.005161                 No          0.005161                     No  \n3       0.005161                 No          0.005161                     No  \n4       0.005161                 No          0.005161                     No  \n\n[5 rows x 37 columns]",
      "text/html": "<div>\n<style scoped>\n    .dataframe tbody tr th:only-of-type {\n        vertical-align: middle;\n    }\n\n    .dataframe tbody tr th {\n        vertical-align: top;\n    }\n\n    .dataframe thead th {\n        text-align: right;\n    }\n</style>\n<table border=\"1\" class=\"dataframe\">\n  <thead>\n    <tr style=\"text-align: right;\">\n      <th></th>\n      <th>gene</th>\n      <th>varID</th>\n      <th>Interpretation</th>\n      <th>InterConfident</th>\n      <th>SPiPscore</th>\n      <th>strand</th>\n      <th>gNomen</th>\n      <th>varType</th>\n      <th>ntChange</th>\n      <th>ExonInfo</th>\n      <th>...</th>\n      <th>nearestPosSStoCrypt</th>\n      <th>nearestDistSStoCrypt</th>\n      <th>posCryptWT</th>\n      <th>probaCryptWT</th>\n      <th>classProbaCryptWT</th>\n      <th>posSSPhysio</th>\n      <th>probaSSPhysio</th>\n      <th>classProbaSSPhysio</th>\n      <th>probaSSPhysioMut</th>\n      <th>classProbaSSPhysioMut</th>\n    </tr>\n  </thead>\n  <tbody>\n    <tr>\n      <th>0</th>\n      <td>NF1</td>\n      <td>NM_000267:c.1000del</td>\n      <td>NTR</td>\n      <td>05.1 % [02.47 % - 09.18 %]</td>\n      <td>0.014</td>\n      <td>+</td>\n      <td>29527551_29527551</td>\n      <td>del</td>\n      <td>del</td>\n      <td>Exon 9</td>\n      <td>...</td>\n      <td>29527613</td>\n      <td>-51</td>\n      <td>29527563</td>\n      <td>0.000023</td>\n      <td>No</td>\n      <td>29527439</td>\n      <td>0.005161</td>\n      <td>No</td>\n      <td>0.005161</td>\n      <td>No</td>\n    </tr>\n    <tr>\n      <th>1</th>\n      <td>NF1</td>\n      <td>NM_000267:c.1007_1008delinsAA</td>\n      <td>NTR</td>\n      <td>04.35 % [02.01 % - 08.09 %]</td>\n      <td>0.008</td>\n      <td>+</td>\n      <td>29527558_29527559</td>\n      <td>delins</td>\n      <td>delinsAA</td>\n      <td>Exon 9</td>\n      <td>...</td>\n      <td>29527613</td>\n      <td>-54</td>\n      <td>29527563</td>\n      <td>0.000023</td>\n      <td>No</td>\n      <td>29527439</td>\n      <td>0.005161</td>\n      <td>No</td>\n      <td>0.005161</td>\n      <td>No</td>\n    </tr>\n    <tr>\n      <th>2</th>\n      <td>NF1</td>\n      <td>NM_000267:c.1007G&gt;A</td>\n      <td>Alter ESR</td>\n      <td>98.54 % [94.83 % - 99.82 %]</td>\n      <td>0.862</td>\n      <td>+</td>\n      <td>29527558</td>\n      <td>substitution</td>\n      <td>G&gt;A</td>\n      <td>Exon 9</td>\n      <td>...</td>\n      <td>29527613</td>\n      <td>-55</td>\n      <td>29527563</td>\n      <td>0.000023</td>\n      <td>No</td>\n      <td>29527439</td>\n      <td>0.005161</td>\n      <td>No</td>\n      <td>0.005161</td>\n      <td>No</td>\n    </tr>\n    <tr>\n      <th>3</th>\n      <td>NF1</td>\n      <td>NM_000267:c.1008G&gt;A</td>\n      <td>NTR</td>\n      <td>04.35 % [02.01 % - 08.09 %]</td>\n      <td>0.012</td>\n      <td>+</td>\n      <td>29527559</td>\n      <td>substitution</td>\n      <td>G&gt;A</td>\n      <td>Exon 9</td>\n      <td>...</td>\n      <td>29527613</td>\n      <td>-54</td>\n      <td>29527563</td>\n      <td>0.000023</td>\n      <td>No</td>\n      <td>29527439</td>\n      <td>0.005161</td>\n      <td>No</td>\n      <td>0.005161</td>\n      <td>No</td>\n    </tr>\n    <tr>\n      <th>4</th>\n      <td>NF1</td>\n      <td>NM_000267:c.1016del</td>\n      <td>NTR</td>\n      <td>04.35 % [02.01 % - 08.09 %]</td>\n      <td>0.020</td>\n      <td>+</td>\n      <td>29527567_29527567</td>\n      <td>del</td>\n      <td>del</td>\n      <td>Exon 9</td>\n      <td>...</td>\n      <td>29527613</td>\n      <td>-51</td>\n      <td>29527563</td>\n      <td>0.000023</td>\n      <td>No</td>\n      <td>29527439</td>\n      <td>0.005161</td>\n      <td>No</td>\n      <td>0.005161</td>\n      <td>No</td>\n    </tr>\n  </tbody>\n</table>\n<p>5 rows × 37 columns</p>\n</div>"
     },
     "execution_count": 49,
     "metadata": {},
     "output_type": "execute_result"
    }
   ],
   "source": [
    "df_spip = pd.read_csv(\"spip_results.txt\", sep=\"\\t\")\n",
    "df_spip.head()"
   ],
   "metadata": {
    "collapsed": false,
    "ExecuteTime": {
     "end_time": "2023-12-10T11:28:28.200599895Z",
     "start_time": "2023-12-10T11:28:28.155774791Z"
    }
   },
   "id": "a037d35097e4889d"
  },
  {
   "cell_type": "code",
   "execution_count": 50,
   "outputs": [
    {
     "name": "stdout",
     "output_type": "stream",
     "text": [
      "spip Interpretation: (3, 9, 50)\n"
     ]
    }
   ],
   "source": [
    "spip_intp_min, spip_intp_avg, spip_intp_max = get_min_avg_len(df_spip, \"Interpretation\")\n",
    "print(f\"spip Interpretation: {get_min_avg_len(df_spip, 'Interpretation')}\")"
   ],
   "metadata": {
    "collapsed": false,
    "ExecuteTime": {
     "end_time": "2023-12-10T11:28:56.254710655Z",
     "start_time": "2023-12-10T11:28:56.251242547Z"
    }
   },
   "id": "f17c80b55b285fa5"
  },
  {
   "cell_type": "code",
   "execution_count": 51,
   "outputs": [
    {
     "name": "stdout",
     "output_type": "stream",
     "text": [
      "spip SPiCEinter_2thr: (3, 20, 28)\n"
     ]
    }
   ],
   "source": [
    "spip_spice_min, spip_spice_avg, spip_spice_max = get_min_avg_len(df_spip, \"SPiCEinter_2thr\")\n",
    "print(f\"spip SPiCEinter_2thr: {get_min_avg_len(df_spip, 'SPiCEinter_2thr')}\")"
   ],
   "metadata": {
    "collapsed": false,
    "ExecuteTime": {
     "end_time": "2023-12-10T11:29:30.577291108Z",
     "start_time": "2023-12-10T11:29:30.534622765Z"
    }
   },
   "id": "7c7ffb1132f5a351"
  },
  {
   "cell_type": "markdown",
   "source": [
    "#### Redis Hashes"
   ],
   "metadata": {
    "collapsed": false
   },
   "id": "2f3fe8add24da65b"
  },
  {
   "cell_type": "code",
   "execution_count": 53,
   "outputs": [
    {
     "data": {
      "text/plain": "384"
     },
     "execution_count": 53,
     "metadata": {},
     "output_type": "execute_result"
    }
   ],
   "source": [
    "variant = get_random_string(len(variant))\n",
    "pang = get_random_string(pangolin_avg)\n",
    "spip_intp = get_random_string(spip_intp_avg)\n",
    "spip_spice = get_random_string(spip_spice_avg)\n",
    "\n",
    "r.hset(\n",
    "    variant,\n",
    "    mapping={\n",
    "        \"pang\": pang,\n",
    "        \"spip_int\": spip_intp,\n",
    "        \"spip_spice\": spip_spice,\n",
    "    },\n",
    ")\n",
    "\n",
    "r.memory_usage(variant)"
   ],
   "metadata": {
    "collapsed": false,
    "ExecuteTime": {
     "end_time": "2023-12-10T11:34:59.256044840Z",
     "start_time": "2023-12-10T11:34:59.213062100Z"
    }
   },
   "id": "28d199c31300035f"
  },
  {
   "cell_type": "markdown",
   "source": [
    "#### Redis Strings"
   ],
   "metadata": {
    "collapsed": false
   },
   "id": "f1a747165ef59d36"
  },
  {
   "cell_type": "code",
   "execution_count": 54,
   "outputs": [
    {
     "name": "stdout",
     "output_type": "stream",
     "text": [
      "pangolin: 152, spip: 112, pangolin+spip: 264\n"
     ]
    }
   ],
   "source": [
    "key_pang = get_random_string(len(variant)+len(\":pang\"))\n",
    "value_pang = get_random_string(pangolin_avg)\n",
    "r.set(key_pang, value_pang)\n",
    "mem_pangolin = r.memory_usage(key_pang)\n",
    "\n",
    "key_spip = get_random_string(len(variant)+len(\":spip\"))\n",
    "sample_spip_value = f\"{spip_intp}\\t{spip_spice}\"\n",
    "value_spip = get_random_string(len(sample_spip_value))\n",
    "r.set(key_spip, value_spip)\n",
    "mem_spip = r.memory_usage(key_spip)\n",
    "\n",
    "mem_pangolin_spip = mem_pangolin + mem_spip\n",
    "print(f\"pangolin: {mem_pangolin}, spip: {mem_spip}, pangolin+spip: {mem_pangolin_spip}\")"
   ],
   "metadata": {
    "collapsed": false,
    "ExecuteTime": {
     "end_time": "2023-12-10T11:39:14.388986116Z",
     "start_time": "2023-12-10T11:39:14.345711276Z"
    }
   },
   "id": "fa4f719296474f93"
  },
  {
   "cell_type": "code",
   "execution_count": 58,
   "outputs": [
    {
     "data": {
      "text/plain": "'yaRfzBhBibDDnipvRgReMlquRzPkfZLwepqnxZCXOBIHCVQoVpbDjmiwcBonfOYwOisE'"
     },
     "execution_count": 58,
     "metadata": {},
     "output_type": "execute_result"
    }
   ],
   "source": [
    "value_pang"
   ],
   "metadata": {
    "collapsed": false,
    "ExecuteTime": {
     "end_time": "2023-12-10T11:56:04.898795722Z",
     "start_time": "2023-12-10T11:56:04.848241861Z"
    }
   },
   "id": "3b988777a35b7e0d"
  },
  {
   "cell_type": "code",
   "execution_count": null,
   "outputs": [],
   "source": [],
   "metadata": {
    "collapsed": false
   },
   "id": "d1f79af41235b1e1"
  },
  {
   "cell_type": "code",
   "execution_count": 56,
   "outputs": [
    {
     "name": "stdout",
     "output_type": "stream",
     "text": [
      "Storage: 8851.289749145508 GiB\n"
     ]
    }
   ],
   "source": [
    "CACHED_VARIANTS = 36_000_000_000\n",
    "\n",
    "storage_GiB = CACHED_VARIANTS * mem_pangolin_spip / 1024 / 1024 / 1024 \n",
    "print(f\"Storage: {storage_GiB} GiB\")"
   ],
   "metadata": {
    "collapsed": false,
    "ExecuteTime": {
     "end_time": "2023-12-10T11:42:49.983945398Z",
     "start_time": "2023-12-10T11:42:49.943230935Z"
    }
   },
   "id": "cc9ccc5eea1fb9cb"
  },
  {
   "cell_type": "code",
   "execution_count": 57,
   "outputs": [
    {
     "name": "stdout",
     "output_type": "stream",
     "text": [
      "Amount of variants on 10GB: 40672038.78787879\n"
     ]
    }
   ],
   "source": [
    "amount_on_10GB = 10 * 1024 * 1024 * 1024 / mem_pangolin_spip\n",
    "print(f\"Amount of variants on 10GB: {amount_on_10GB}\")"
   ],
   "metadata": {
    "collapsed": false,
    "ExecuteTime": {
     "end_time": "2023-12-10T11:43:27.829430223Z",
     "start_time": "2023-12-10T11:43:27.778213735Z"
    }
   },
   "id": "a91ff43fcce48c00"
  },
  {
   "cell_type": "markdown",
   "source": [
    "40 672 038 variants in 10GB"
   ],
   "metadata": {
    "collapsed": false
   },
   "id": "db19bd35127db4e"
  },
  {
   "cell_type": "markdown",
   "source": [
    "#### save as bytes"
   ],
   "metadata": {
    "collapsed": false
   },
   "id": "21c602f5660ee83f"
  },
  {
   "cell_type": "code",
   "execution_count": 62,
   "outputs": [
    {
     "name": "stdout",
     "output_type": "stream",
     "text": [
      "pangolin: 152, spip: 112, pangolin+spip: 264\n"
     ]
    }
   ],
   "source": [
    "key_pang = get_random_string(len(variant)+len(\":pang\"))\n",
    "value_pang = get_random_string(pangolin_avg)\n",
    "r.set(bytes(key_pang, \"utf-8\"), bytes(value_pang, \"utf-8\"))\n",
    "mem_pangolin = r.memory_usage(key_pang)\n",
    "\n",
    "key_spip = get_random_string(len(variant)+len(\":spip\"))\n",
    "sample_spip_value = f\"{spip_intp}\\t{spip_spice}\"\n",
    "value_spip = get_random_string(len(sample_spip_value))\n",
    "r.set(bytes(key_spip, \"utf-8\"), bytes(value_spip, \"utf-8\"))\n",
    "mem_spip = r.memory_usage(key_spip)\n",
    "\n",
    "mem_pangolin_spip = mem_pangolin + mem_spip\n",
    "print(f\"pangolin: {mem_pangolin}, spip: {mem_spip}, pangolin+spip: {mem_pangolin_spip}\")"
   ],
   "metadata": {
    "collapsed": false,
    "ExecuteTime": {
     "end_time": "2023-12-10T12:01:49.855303550Z",
     "start_time": "2023-12-10T12:01:49.808199802Z"
    }
   },
   "id": "b7e357f3bc40dee0"
  },
  {
   "cell_type": "code",
   "execution_count": 63,
   "outputs": [
    {
     "name": "stdout",
     "output_type": "stream",
     "text": [
      "pangolin: 184, spip: 144, pangolin+spip: 328\n"
     ]
    }
   ],
   "source": [
    "import pickle\n",
    "# pickle key and value\n",
    "pickle_key_pang = pickle.dumps(key_pang)\n",
    "pickle_value_pang = pickle.dumps(value_pang)\n",
    "r.set(pickle_key_pang, pickle_value_pang)\n",
    "mem_pangolin = r.memory_usage(pickle_key_pang)\n",
    "\n",
    "pickle_key_spip = pickle.dumps(key_spip)\n",
    "pickle_value_spip = pickle.dumps(value_spip)\n",
    "r.set(pickle_key_spip, pickle_value_spip)\n",
    "mem_spip = r.memory_usage(pickle_key_spip)\n",
    "\n",
    "mem_pangolin_spip = mem_pangolin + mem_spip\n",
    "print(f\"pangolin: {mem_pangolin}, spip: {mem_spip}, pangolin+spip: {mem_pangolin_spip}\")"
   ],
   "metadata": {
    "collapsed": false,
    "ExecuteTime": {
     "end_time": "2023-12-10T12:02:45.335923051Z",
     "start_time": "2023-12-10T12:02:45.293377799Z"
    }
   },
   "id": "f0c15a2b5b587544"
  },
  {
   "cell_type": "code",
   "execution_count": 64,
   "outputs": [
    {
     "name": "stdout",
     "output_type": "stream",
     "text": [
      "pangolin: 152, spip: 112, pangolin+spip: 264\n"
     ]
    }
   ],
   "source": [
    "import msgpack\n",
    "# msgpack key and value\n",
    "msgpack_key_pang = msgpack.packb(key_pang)\n",
    "msgpack_value_pang = msgpack.packb(value_pang)\n",
    "r.set(msgpack_key_pang, msgpack_value_pang)\n",
    "mem_pangolin = r.memory_usage(msgpack_key_pang)\n",
    "\n",
    "msgpack_key_spip = msgpack.packb(key_spip)\n",
    "msgpack_value_spip = msgpack.packb(value_spip)\n",
    "r.set(msgpack_key_spip, msgpack_value_spip)\n",
    "mem_spip = r.memory_usage(msgpack_key_spip)\n",
    "\n",
    "mem_pangolin_spip = mem_pangolin + mem_spip\n",
    "print(f\"pangolin: {mem_pangolin}, spip: {mem_spip}, pangolin+spip: {mem_pangolin_spip}\")"
   ],
   "metadata": {
    "collapsed": false,
    "ExecuteTime": {
     "end_time": "2023-12-10T12:04:40.192064838Z",
     "start_time": "2023-12-10T12:04:40.150997313Z"
    }
   },
   "id": "9ee5fcf208510268"
  },
  {
   "cell_type": "code",
   "execution_count": 67,
   "outputs": [
    {
     "name": "stdout",
     "output_type": "stream",
     "text": [
      "pangolin: 160, spip: 128, pangolin+spip: 288\n"
     ]
    }
   ],
   "source": [
    "import zlib\n",
    " \n",
    "# zlib key and value\n",
    "zlib_key_pang = zlib.compress(bytes(key_pang, \"utf-8\"))\n",
    "zlib_value_pang = zlib.compress(bytes(value_pang, \"utf-8\"))\n",
    "r.set(zlib_key_pang, zlib_value_pang)\n",
    "mem_pangolin = r.memory_usage(zlib_key_pang)\n",
    "\n",
    "zlib_key_spip = zlib.compress(bytes(key_spip, \"utf-8\"))\n",
    "zlib_value_spip = zlib.compress(bytes(value_spip, \"utf-8\"))\n",
    "r.set(zlib_key_spip, zlib_value_spip)\n",
    "mem_spip = r.memory_usage(zlib_key_spip)\n",
    "\n",
    "mem_pangolin_spip = mem_pangolin + mem_spip\n",
    "print(f\"pangolin: {mem_pangolin}, spip: {mem_spip}, pangolin+spip: {mem_pangolin_spip}\")"
   ],
   "metadata": {
    "collapsed": false,
    "ExecuteTime": {
     "end_time": "2023-12-10T12:05:46.744572527Z",
     "start_time": "2023-12-10T12:05:46.722257890Z"
    }
   },
   "id": "dd9af349fdf46a2"
  }
 ],
 "metadata": {
  "kernelspec": {
   "display_name": "Python 3",
   "language": "python",
   "name": "python3"
  },
  "language_info": {
   "codemirror_mode": {
    "name": "ipython",
    "version": 2
   },
   "file_extension": ".py",
   "mimetype": "text/x-python",
   "name": "python",
   "nbconvert_exporter": "python",
   "pygments_lexer": "ipython2",
   "version": "2.7.6"
  }
 },
 "nbformat": 4,
 "nbformat_minor": 5
}
