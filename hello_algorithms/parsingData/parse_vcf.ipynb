{
 "cells": [
  {
   "cell_type": "code",
   "execution_count": 1,
   "id": "initial_id",
   "metadata": {
    "collapsed": true,
    "ExecuteTime": {
     "end_time": "2023-11-25T16:32:42.947461465Z",
     "start_time": "2023-11-25T16:32:37.114919881Z"
    }
   },
   "outputs": [
    {
     "name": "stdout",
     "output_type": "stream",
     "text": [
      "Collecting setuptools<58\r\n",
      "  Downloading setuptools-57.5.0-py3-none-any.whl (819 kB)\r\n",
      "\u001B[2K     \u001B[90m━━━━━━━━━━━━━━━━━━━━━━━━━━━━━━━━━━━━━━━\u001B[0m \u001B[32m819.3/819.3 kB\u001B[0m \u001B[31m4.6 MB/s\u001B[0m eta \u001B[36m0:00:00\u001B[0ma \u001B[36m0:00:01\u001B[0m\r\n",
      "\u001B[?25hInstalling collected packages: setuptools\r\n",
      "  Attempting uninstall: setuptools\r\n",
      "    Found existing installation: setuptools 68.0.0\r\n",
      "    Uninstalling setuptools-68.0.0:\r\n",
      "      Successfully uninstalled setuptools-68.0.0\r\n",
      "Successfully installed setuptools-57.5.0\r\n",
      "\u001B[33mWARNING: Skipping pyvcf as it is not installed.\u001B[0m\u001B[33m\r\n",
      "\u001B[0mCollecting pyvcf\r\n",
      "  Downloading PyVCF-0.6.8.tar.gz (34 kB)\r\n",
      "  Preparing metadata (setup.py) ... \u001B[?25ldone\r\n",
      "\u001B[?25hRequirement already satisfied: setuptools in /home/wojtek/anaconda3/envs/genetics/lib/python3.10/site-packages (from pyvcf) (57.5.0)\r\n",
      "Building wheels for collected packages: pyvcf\r\n",
      "  Building wheel for pyvcf (setup.py) ... \u001B[?25ldone\r\n",
      "\u001B[?25h  Created wheel for pyvcf: filename=PyVCF-0.6.8-py3-none-any.whl size=36006 sha256=5298750f6016e572850e9ff82f8e6223bc2088adcf6457d912421a4f213abe21\r\n",
      "  Stored in directory: /home/wojtek/.cache/pip/wheels/da/88/3b/b691691894da44fc597c93ba7f953a46d1413ed7411906a6d2\r\n",
      "Successfully built pyvcf\r\n",
      "Installing collected packages: pyvcf\r\n",
      "Successfully installed pyvcf-0.6.8\r\n"
     ]
    }
   ],
   "source": [
    "!pip install \"setuptools<58\" --upgrade\n",
    "!pip uninstall pyvcf\n",
    "!pip install pyvcf"
   ]
  },
  {
   "cell_type": "code",
   "execution_count": 2,
   "outputs": [],
   "source": [
    "import vcf"
   ],
   "metadata": {
    "collapsed": false,
    "ExecuteTime": {
     "end_time": "2023-11-25T16:33:11.247491864Z",
     "start_time": "2023-11-25T16:33:11.199982058Z"
    }
   },
   "id": "b7ecc1e611a8f655"
  },
  {
   "cell_type": "code",
   "execution_count": 3,
   "outputs": [],
   "source": [
    "vcf_reader = vcf.Reader(open('../../data/spip.vcf', 'r'))"
   ],
   "metadata": {
    "collapsed": false,
    "ExecuteTime": {
     "end_time": "2023-11-25T16:33:52.167167015Z",
     "start_time": "2023-11-25T16:33:52.123518192Z"
    }
   },
   "id": "864d5369c2b48a83"
  },
  {
   "cell_type": "code",
   "execution_count": 5,
   "outputs": [
    {
     "name": "stdout",
     "output_type": "stream",
     "text": [
      "Record(CHROM=chr17, POS=29528084, REF=CTC, ALT=[C])\n",
      "Record(CHROM=chr17, POS=29528086, REF=C, ALT=[G])\n",
      "Record(CHROM=chr17, POS=29528097, REF=C, ALT=[T])\n",
      "Record(CHROM=chr17, POS=29528123, REF=TGA, ALT=[TGAGA])\n",
      "Record(CHROM=chr17, POS=29528124, REF=GACTG, ALT=[G])\n",
      "Record(CHROM=chr17, POS=29528130, REF=CTTGT, ALT=[CAAAA])\n",
      "Record(CHROM=chr17, POS=29528144, REF=TC, ALT=[T])\n",
      "Record(CHROM=chr17, POS=29528176, REF=AGGT, ALT=[A])\n"
     ]
    },
    {
     "ename": "IndexError",
     "evalue": "string index out of range",
     "output_type": "error",
     "traceback": [
      "\u001B[0;31m---------------------------------------------------------------------------\u001B[0m",
      "\u001B[0;31mIndexError\u001B[0m                                Traceback (most recent call last)",
      "Cell \u001B[0;32mIn[5], line 1\u001B[0m\n\u001B[0;32m----> 1\u001B[0m \u001B[38;5;28;01mfor\u001B[39;00m record \u001B[38;5;129;01min\u001B[39;00m vcf_reader:\n\u001B[1;32m      2\u001B[0m     \u001B[38;5;28mprint\u001B[39m(record)\n",
      "File \u001B[0;32m~/anaconda3/envs/genetics/lib/python3.10/site-packages/vcf/parser.py:555\u001B[0m, in \u001B[0;36mReader.__next__\u001B[0;34m(self)\u001B[0m\n\u001B[1;32m    552\u001B[0m     ID \u001B[38;5;241m=\u001B[39m \u001B[38;5;28;01mNone\u001B[39;00m\n\u001B[1;32m    554\u001B[0m ref \u001B[38;5;241m=\u001B[39m row[\u001B[38;5;241m3\u001B[39m]\n\u001B[0;32m--> 555\u001B[0m alt \u001B[38;5;241m=\u001B[39m \u001B[38;5;28;43mself\u001B[39;49m\u001B[38;5;241;43m.\u001B[39;49m\u001B[43m_map\u001B[49m\u001B[43m(\u001B[49m\u001B[38;5;28;43mself\u001B[39;49m\u001B[38;5;241;43m.\u001B[39;49m\u001B[43m_parse_alt\u001B[49m\u001B[43m,\u001B[49m\u001B[43m \u001B[49m\u001B[43mrow\u001B[49m\u001B[43m[\u001B[49m\u001B[38;5;241;43m4\u001B[39;49m\u001B[43m]\u001B[49m\u001B[38;5;241;43m.\u001B[39;49m\u001B[43msplit\u001B[49m\u001B[43m(\u001B[49m\u001B[38;5;124;43m'\u001B[39;49m\u001B[38;5;124;43m,\u001B[39;49m\u001B[38;5;124;43m'\u001B[39;49m\u001B[43m)\u001B[49m\u001B[43m)\u001B[49m\n\u001B[1;32m    557\u001B[0m \u001B[38;5;28;01mtry\u001B[39;00m:\n\u001B[1;32m    558\u001B[0m     qual \u001B[38;5;241m=\u001B[39m \u001B[38;5;28mint\u001B[39m(row[\u001B[38;5;241m5\u001B[39m])\n",
      "File \u001B[0;32m~/anaconda3/envs/genetics/lib/python3.10/site-packages/vcf/parser.py:359\u001B[0m, in \u001B[0;36mReader._map\u001B[0;34m(self, func, iterable, bad)\u001B[0m\n\u001B[1;32m    357\u001B[0m \u001B[38;5;28;01mdef\u001B[39;00m \u001B[38;5;21m_map\u001B[39m(\u001B[38;5;28mself\u001B[39m, func, iterable, bad\u001B[38;5;241m=\u001B[39m\u001B[38;5;124m'\u001B[39m\u001B[38;5;124m.\u001B[39m\u001B[38;5;124m'\u001B[39m):\n\u001B[1;32m    358\u001B[0m \u001B[38;5;250m    \u001B[39m\u001B[38;5;124;03m'''``map``, but make bad values None.'''\u001B[39;00m\n\u001B[0;32m--> 359\u001B[0m     \u001B[38;5;28;01mreturn\u001B[39;00m [func(x) \u001B[38;5;28;01mif\u001B[39;00m x \u001B[38;5;241m!=\u001B[39m bad \u001B[38;5;28;01melse\u001B[39;00m \u001B[38;5;28;01mNone\u001B[39;00m\n\u001B[1;32m    360\u001B[0m             \u001B[38;5;28;01mfor\u001B[39;00m x \u001B[38;5;129;01min\u001B[39;00m iterable]\n",
      "File \u001B[0;32m~/anaconda3/envs/genetics/lib/python3.10/site-packages/vcf/parser.py:359\u001B[0m, in \u001B[0;36m<listcomp>\u001B[0;34m(.0)\u001B[0m\n\u001B[1;32m    357\u001B[0m \u001B[38;5;28;01mdef\u001B[39;00m \u001B[38;5;21m_map\u001B[39m(\u001B[38;5;28mself\u001B[39m, func, iterable, bad\u001B[38;5;241m=\u001B[39m\u001B[38;5;124m'\u001B[39m\u001B[38;5;124m.\u001B[39m\u001B[38;5;124m'\u001B[39m):\n\u001B[1;32m    358\u001B[0m \u001B[38;5;250m    \u001B[39m\u001B[38;5;124;03m'''``map``, but make bad values None.'''\u001B[39;00m\n\u001B[0;32m--> 359\u001B[0m     \u001B[38;5;28;01mreturn\u001B[39;00m [\u001B[43mfunc\u001B[49m\u001B[43m(\u001B[49m\u001B[43mx\u001B[49m\u001B[43m)\u001B[49m \u001B[38;5;28;01mif\u001B[39;00m x \u001B[38;5;241m!=\u001B[39m bad \u001B[38;5;28;01melse\u001B[39;00m \u001B[38;5;28;01mNone\u001B[39;00m\n\u001B[1;32m    360\u001B[0m             \u001B[38;5;28;01mfor\u001B[39;00m x \u001B[38;5;129;01min\u001B[39;00m iterable]\n",
      "File \u001B[0;32m~/anaconda3/envs/genetics/lib/python3.10/site-packages/vcf/parser.py:531\u001B[0m, in \u001B[0;36mReader._parse_alt\u001B[0;34m(self, str)\u001B[0m\n\u001B[1;32m    529\u001B[0m         connectingSequence \u001B[38;5;241m=\u001B[39m items[\u001B[38;5;241m0\u001B[39m]\n\u001B[1;32m    530\u001B[0m     \u001B[38;5;28;01mreturn\u001B[39;00m _Breakend(\u001B[38;5;28mchr\u001B[39m, pos, orientation, remoteOrientation, connectingSequence, withinMainAssembly)\n\u001B[0;32m--> 531\u001B[0m \u001B[38;5;28;01melif\u001B[39;00m \u001B[38;5;28;43mstr\u001B[39;49m\u001B[43m[\u001B[49m\u001B[38;5;241;43m0\u001B[39;49m\u001B[43m]\u001B[49m \u001B[38;5;241m==\u001B[39m \u001B[38;5;124m'\u001B[39m\u001B[38;5;124m.\u001B[39m\u001B[38;5;124m'\u001B[39m \u001B[38;5;129;01mand\u001B[39;00m \u001B[38;5;28mlen\u001B[39m(\u001B[38;5;28mstr\u001B[39m) \u001B[38;5;241m>\u001B[39m \u001B[38;5;241m1\u001B[39m:\n\u001B[1;32m    532\u001B[0m     \u001B[38;5;28;01mreturn\u001B[39;00m _SingleBreakend(\u001B[38;5;28;01mTrue\u001B[39;00m, \u001B[38;5;28mstr\u001B[39m[\u001B[38;5;241m1\u001B[39m:])\n\u001B[1;32m    533\u001B[0m \u001B[38;5;28;01melif\u001B[39;00m \u001B[38;5;28mstr\u001B[39m[\u001B[38;5;241m-\u001B[39m\u001B[38;5;241m1\u001B[39m] \u001B[38;5;241m==\u001B[39m \u001B[38;5;124m'\u001B[39m\u001B[38;5;124m.\u001B[39m\u001B[38;5;124m'\u001B[39m \u001B[38;5;129;01mand\u001B[39;00m \u001B[38;5;28mlen\u001B[39m(\u001B[38;5;28mstr\u001B[39m) \u001B[38;5;241m>\u001B[39m \u001B[38;5;241m1\u001B[39m:\n",
      "\u001B[0;31mIndexError\u001B[0m: string index out of range"
     ]
    }
   ],
   "source": [
    "for record in vcf_reader:\n",
    "    print(record)"
   ],
   "metadata": {
    "collapsed": false,
    "ExecuteTime": {
     "end_time": "2023-11-25T16:37:44.155531753Z",
     "start_time": "2023-11-25T16:37:44.113912173Z"
    }
   },
   "id": "7e42b7dd247e7ae2"
  }
 ],
 "metadata": {
  "kernelspec": {
   "display_name": "Python 3",
   "language": "python",
   "name": "python3"
  },
  "language_info": {
   "codemirror_mode": {
    "name": "ipython",
    "version": 2
   },
   "file_extension": ".py",
   "mimetype": "text/x-python",
   "name": "python",
   "nbconvert_exporter": "python",
   "pygments_lexer": "ipython2",
   "version": "2.7.6"
  }
 },
 "nbformat": 4,
 "nbformat_minor": 5
}
