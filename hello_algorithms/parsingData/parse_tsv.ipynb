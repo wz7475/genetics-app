{
 "cells": [
  {
   "cell_type": "code",
   "execution_count": 1,
   "id": "initial_id",
   "metadata": {
    "collapsed": true,
    "ExecuteTime": {
     "end_time": "2023-11-25T16:04:52.709316873Z",
     "start_time": "2023-11-25T16:04:52.558969136Z"
    }
   },
   "outputs": [],
   "source": [
    "import pandas as pd"
   ]
  },
  {
   "cell_type": "code",
   "execution_count": 2,
   "outputs": [],
   "source": [
    "df = pd.read_csv('../../data/100.tsv', sep='\\t', on_bad_lines='skip')"
   ],
   "metadata": {
    "collapsed": false,
    "ExecuteTime": {
     "end_time": "2023-11-25T16:04:53.692824760Z",
     "start_time": "2023-11-25T16:04:53.677704382Z"
    }
   },
   "id": "cac8ccb63e3bd990"
  },
  {
   "cell_type": "code",
   "execution_count": 3,
   "outputs": [
    {
     "data": {
      "text/plain": "    Unnamed: 0     Sex    Chr        POS Ref Alt FILTER  Qual  \\\n0  RG-corriell  female  chr10  104032447   A   C   PASS  2573   \n1  RG-corriell  female  chr10  104032447   A   C   PASS  2573   \n2  RG-corriell  female  chr10  104032447   A   C   PASS  2573   \n3  RG-corriell  female  chr10  104033415   T   G   PASS  4349   \n4  RG-corriell  female  chr10  104033415   T   G   PASS  4349   \n\n                                            UCSC_url  \\\n0  http://genome-euro.ucsc.edu/cgi-bin/hgTracks?d...   \n1  http://genome-euro.ucsc.edu/cgi-bin/hgTracks?d...   \n2  http://genome-euro.ucsc.edu/cgi-bin/hgTracks?d...   \n3  http://genome-euro.ucsc.edu/cgi-bin/hgTracks?d...   \n4  http://genome-euro.ucsc.edu/cgi-bin/hgTracks?d...   \n\n                                  VarSome_url  ... v_hom_pass_exome  \\\n0   https://varsome.com/variant/hg38/rs813943  ...             1284   \n1   https://varsome.com/variant/hg38/rs813943  ...             1284   \n2   https://varsome.com/variant/hg38/rs813943  ...             1284   \n3  https://varsome.com/variant/hg38/rs1747675  ...             2254   \n4  https://varsome.com/variant/hg38/rs1747675  ...             2254   \n\n  v_het_exome v_het_pass_exome v_hem_exome v_hem_pass_exome sn_exome  \\\n0         818              818           0                0      >50   \n1         818              818           0                0      >50   \n2         818              818           0                0      >50   \n3           2                2           0                0      >50   \n4           2                2           0                0      >50   \n\n  sn_exome_pass  exome_af     exome_af_pass            Annotation_info  \n0           >50  0.749779  0.74977856510186  AnnotationDate:2023-03-13  \n1           >50  0.749779  0.74977856510186  AnnotationDate:2023-03-13  \n2           >50  0.749779  0.74977856510186         ClinVar:2023-03-06  \n3           >50  0.998671  0.99867139061116            OMIM:2023-03-12  \n4           >50  0.998671  0.99867139061116         Ensembl_107-GRCh38  \n\n[5 rows x 128 columns]",
      "text/html": "<div>\n<style scoped>\n    .dataframe tbody tr th:only-of-type {\n        vertical-align: middle;\n    }\n\n    .dataframe tbody tr th {\n        vertical-align: top;\n    }\n\n    .dataframe thead th {\n        text-align: right;\n    }\n</style>\n<table border=\"1\" class=\"dataframe\">\n  <thead>\n    <tr style=\"text-align: right;\">\n      <th></th>\n      <th>Unnamed: 0</th>\n      <th>Sex</th>\n      <th>Chr</th>\n      <th>POS</th>\n      <th>Ref</th>\n      <th>Alt</th>\n      <th>FILTER</th>\n      <th>Qual</th>\n      <th>UCSC_url</th>\n      <th>VarSome_url</th>\n      <th>...</th>\n      <th>v_hom_pass_exome</th>\n      <th>v_het_exome</th>\n      <th>v_het_pass_exome</th>\n      <th>v_hem_exome</th>\n      <th>v_hem_pass_exome</th>\n      <th>sn_exome</th>\n      <th>sn_exome_pass</th>\n      <th>exome_af</th>\n      <th>exome_af_pass</th>\n      <th>Annotation_info</th>\n    </tr>\n  </thead>\n  <tbody>\n    <tr>\n      <th>0</th>\n      <td>RG-corriell</td>\n      <td>female</td>\n      <td>chr10</td>\n      <td>104032447</td>\n      <td>A</td>\n      <td>C</td>\n      <td>PASS</td>\n      <td>2573</td>\n      <td>http://genome-euro.ucsc.edu/cgi-bin/hgTracks?d...</td>\n      <td>https://varsome.com/variant/hg38/rs813943</td>\n      <td>...</td>\n      <td>1284</td>\n      <td>818</td>\n      <td>818</td>\n      <td>0</td>\n      <td>0</td>\n      <td>&gt;50</td>\n      <td>&gt;50</td>\n      <td>0.749779</td>\n      <td>0.74977856510186</td>\n      <td>AnnotationDate:2023-03-13</td>\n    </tr>\n    <tr>\n      <th>1</th>\n      <td>RG-corriell</td>\n      <td>female</td>\n      <td>chr10</td>\n      <td>104032447</td>\n      <td>A</td>\n      <td>C</td>\n      <td>PASS</td>\n      <td>2573</td>\n      <td>http://genome-euro.ucsc.edu/cgi-bin/hgTracks?d...</td>\n      <td>https://varsome.com/variant/hg38/rs813943</td>\n      <td>...</td>\n      <td>1284</td>\n      <td>818</td>\n      <td>818</td>\n      <td>0</td>\n      <td>0</td>\n      <td>&gt;50</td>\n      <td>&gt;50</td>\n      <td>0.749779</td>\n      <td>0.74977856510186</td>\n      <td>AnnotationDate:2023-03-13</td>\n    </tr>\n    <tr>\n      <th>2</th>\n      <td>RG-corriell</td>\n      <td>female</td>\n      <td>chr10</td>\n      <td>104032447</td>\n      <td>A</td>\n      <td>C</td>\n      <td>PASS</td>\n      <td>2573</td>\n      <td>http://genome-euro.ucsc.edu/cgi-bin/hgTracks?d...</td>\n      <td>https://varsome.com/variant/hg38/rs813943</td>\n      <td>...</td>\n      <td>1284</td>\n      <td>818</td>\n      <td>818</td>\n      <td>0</td>\n      <td>0</td>\n      <td>&gt;50</td>\n      <td>&gt;50</td>\n      <td>0.749779</td>\n      <td>0.74977856510186</td>\n      <td>ClinVar:2023-03-06</td>\n    </tr>\n    <tr>\n      <th>3</th>\n      <td>RG-corriell</td>\n      <td>female</td>\n      <td>chr10</td>\n      <td>104033415</td>\n      <td>T</td>\n      <td>G</td>\n      <td>PASS</td>\n      <td>4349</td>\n      <td>http://genome-euro.ucsc.edu/cgi-bin/hgTracks?d...</td>\n      <td>https://varsome.com/variant/hg38/rs1747675</td>\n      <td>...</td>\n      <td>2254</td>\n      <td>2</td>\n      <td>2</td>\n      <td>0</td>\n      <td>0</td>\n      <td>&gt;50</td>\n      <td>&gt;50</td>\n      <td>0.998671</td>\n      <td>0.99867139061116</td>\n      <td>OMIM:2023-03-12</td>\n    </tr>\n    <tr>\n      <th>4</th>\n      <td>RG-corriell</td>\n      <td>female</td>\n      <td>chr10</td>\n      <td>104033415</td>\n      <td>T</td>\n      <td>G</td>\n      <td>PASS</td>\n      <td>4349</td>\n      <td>http://genome-euro.ucsc.edu/cgi-bin/hgTracks?d...</td>\n      <td>https://varsome.com/variant/hg38/rs1747675</td>\n      <td>...</td>\n      <td>2254</td>\n      <td>2</td>\n      <td>2</td>\n      <td>0</td>\n      <td>0</td>\n      <td>&gt;50</td>\n      <td>&gt;50</td>\n      <td>0.998671</td>\n      <td>0.99867139061116</td>\n      <td>Ensembl_107-GRCh38</td>\n    </tr>\n  </tbody>\n</table>\n<p>5 rows × 128 columns</p>\n</div>"
     },
     "execution_count": 3,
     "metadata": {},
     "output_type": "execute_result"
    }
   ],
   "source": [
    "df.head()"
   ],
   "metadata": {
    "collapsed": false,
    "ExecuteTime": {
     "end_time": "2023-11-25T16:04:55.784278705Z",
     "start_time": "2023-11-25T16:04:55.778069949Z"
    }
   },
   "id": "a0ce33d2a013427a"
  },
  {
   "cell_type": "code",
   "execution_count": 7,
   "outputs": [
    {
     "data": {
      "text/plain": "['Unnamed: 0',\n 'Sex',\n 'Chr',\n 'POS',\n 'Ref',\n 'Alt',\n 'FILTER',\n 'Qual',\n 'UCSC_url',\n 'VarSome_url',\n 'Franklin_url',\n 'HGMD_url',\n 'Ensembl_url',\n 'GCexpres_url',\n 'Mastermind_url',\n 'LitVar2_url',\n 'IGV_url',\n 'AD',\n 'DP',\n 'VAF',\n 'Zyg',\n 'Mult_het',\n 'Symbol',\n 'Consequence',\n 'Impact',\n 'rs_dbSNP',\n 'inheritanceOMIM',\n 'phenotypeOMIM',\n 'OMIM_url',\n 'key',\n 'HGVS',\n 'HGVS_canonical',\n 'Position',\n 'CLNSIG',\n 'CLNDN',\n 'CLNREVSTAT',\n 'CLNSIGCONF',\n 'ClinVar_url',\n 'gnomADv3_AF',\n 'gnomADv3_AF_NFE',\n 'gnomADv3_AF_max',\n 'gnomADv3_AF_max_population',\n 'gnomADv3_AC',\n 'gnomADv3_nhomalt',\n 'gnomADv3_url',\n 'gnomADv2_AF_exomes',\n 'gnomADv2_AF_NFE_exomes',\n 'gnomADv2_AC_exomes',\n 'gnomADv2_nhomalt_exomes',\n 'varSEAK_url',\n 'SpliceRegion',\n 'ada_score',\n 'rf_score',\n 'SpliceAI_pred',\n 'SpliceAI_cutoff',\n 'LoF',\n 'pLI',\n 'SIFT',\n 'SIFT4G_pred',\n 'PolyPhen',\n 'Polyphen2_HDIV_pred',\n 'MutationTaster_pred',\n 'MutationAssessor_pred',\n 'BayesDel_addAF_pred',\n 'BayesDel_noAF_pred',\n 'LIST-S2_pred',\n 'fathmm-MKL_coding_pred',\n 'fathmm-XF_coding_pred',\n 'DEOGEN2_pred',\n 'LRT_pred',\n 'M-CAP_pred',\n 'MetaLR_pred',\n 'MetaSVM_pred',\n 'PROVEAN_pred',\n 'PrimateAI_pred',\n 'CADD_phred',\n 'CADD_phred_hg19',\n 'DANN_score',\n 'REVEL_rankscore',\n 'VEST4_rankscore',\n 'MPC_rankscore',\n 'MVP_rankscore',\n 'Eigen-PC-raw_coding_rankscore',\n 'Eigen-raw_coding_rankscore',\n 'GERP++_RS_rankscore',\n 'LRT_converted_rankscore',\n 'MutPred_Top5features',\n 'MutPred_protID',\n 'MutPred_rankscore',\n 'MutPred_score',\n 'MANE_SELECT',\n 'AAchange',\n 'Feature',\n 'ENSP',\n 'VARIANT_CLASS',\n 'BIOTYPE',\n 'Interpro_domain',\n 'hg19_pos(1-based)',\n 'OMIMcytoband',\n 'clinvar_MedGen_id',\n 'clinvar_Orphanet_id',\n 'ZygNum',\n 'vcf_REF',\n 'vcf_ALT',\n 'vcf_FORMAT',\n 'vcf_SAMPLE',\n 'design',\n 'v_hom_design',\n 'v_hom_pass_design',\n 'v_het_design',\n 'v_het_pass_design',\n 'v_hem_design',\n 'v_hem_pass_design',\n 'sn_design',\n 'sn_design_pass',\n 'design_af',\n 'design_af_pass',\n 'v_hom_exome',\n 'v_hom_pass_exome',\n 'v_het_exome',\n 'v_het_pass_exome',\n 'v_hem_exome',\n 'v_hem_pass_exome',\n 'sn_exome',\n 'sn_exome_pass',\n 'exome_af',\n 'exome_af_pass',\n 'Annotation_info']"
     },
     "execution_count": 7,
     "metadata": {},
     "output_type": "execute_result"
    }
   ],
   "source": [
    "list(df.columns)"
   ],
   "metadata": {
    "collapsed": false,
    "ExecuteTime": {
     "end_time": "2023-11-25T13:20:48.752265172Z",
     "start_time": "2023-11-25T13:20:48.710340710Z"
    }
   },
   "id": "5b6fc524ac1f8369"
  },
  {
   "cell_type": "code",
   "execution_count": 9,
   "outputs": [
    {
     "data": {
      "text/plain": "     Chr        POS Ref Alt\n0  chr10  104032447   A   C\n1  chr10  104032447   A   C\n2  chr10  104032447   A   C\n3  chr10  104033415   T   G\n4  chr10  104033415   T   G",
      "text/html": "<div>\n<style scoped>\n    .dataframe tbody tr th:only-of-type {\n        vertical-align: middle;\n    }\n\n    .dataframe tbody tr th {\n        vertical-align: top;\n    }\n\n    .dataframe thead th {\n        text-align: right;\n    }\n</style>\n<table border=\"1\" class=\"dataframe\">\n  <thead>\n    <tr style=\"text-align: right;\">\n      <th></th>\n      <th>Chr</th>\n      <th>POS</th>\n      <th>Ref</th>\n      <th>Alt</th>\n    </tr>\n  </thead>\n  <tbody>\n    <tr>\n      <th>0</th>\n      <td>chr10</td>\n      <td>104032447</td>\n      <td>A</td>\n      <td>C</td>\n    </tr>\n    <tr>\n      <th>1</th>\n      <td>chr10</td>\n      <td>104032447</td>\n      <td>A</td>\n      <td>C</td>\n    </tr>\n    <tr>\n      <th>2</th>\n      <td>chr10</td>\n      <td>104032447</td>\n      <td>A</td>\n      <td>C</td>\n    </tr>\n    <tr>\n      <th>3</th>\n      <td>chr10</td>\n      <td>104033415</td>\n      <td>T</td>\n      <td>G</td>\n    </tr>\n    <tr>\n      <th>4</th>\n      <td>chr10</td>\n      <td>104033415</td>\n      <td>T</td>\n      <td>G</td>\n    </tr>\n  </tbody>\n</table>\n</div>"
     },
     "execution_count": 9,
     "metadata": {},
     "output_type": "execute_result"
    }
   ],
   "source": [
    "# get subset with CHROM, POS, REF, ALT\n",
    "df[['Chr', 'POS', 'Ref', 'Alt']].head()"
   ],
   "metadata": {
    "collapsed": false,
    "ExecuteTime": {
     "end_time": "2023-11-25T14:05:12.357766509Z",
     "start_time": "2023-11-25T14:05:12.310081528Z"
    }
   },
   "id": "7bb5f4af359106d2"
  }
 ],
 "metadata": {
  "kernelspec": {
   "display_name": "Python 3",
   "language": "python",
   "name": "python3"
  },
  "language_info": {
   "codemirror_mode": {
    "name": "ipython",
    "version": 2
   },
   "file_extension": ".py",
   "mimetype": "text/x-python",
   "name": "python",
   "nbconvert_exporter": "python",
   "pygments_lexer": "ipython2",
   "version": "2.7.6"
  }
 },
 "nbformat": 4,
 "nbformat_minor": 5
}
