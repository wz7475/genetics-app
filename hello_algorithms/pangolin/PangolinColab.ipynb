{
 "cells": [
  {
   "cell_type": "code",
   "execution_count": 1,
   "metadata": {
    "ExecuteTime": {
     "end_time": "2023-12-04T09:38:28.328833411Z",
     "start_time": "2023-12-04T09:38:24.860631576Z"
    },
    "colab": {
     "base_uri": "https://localhost:8080/",
     "height": 670
    },
    "id": "8s-6rBDOvf3P",
    "outputId": "a50581f7-df28-4e62-ce88-4c5aa3c4b288"
   },
   "outputs": [
    {
     "name": "stdout",
     "output_type": "stream",
     "text": [
      "Collecting setuptools<58\r\n",
      "  Using cached setuptools-57.5.0-py3-none-any.whl (819 kB)\r\n",
      "Installing collected packages: setuptools\r\n",
      "  Attempting uninstall: setuptools\r\n",
      "    Found existing installation: setuptools 68.0.0\r\n",
      "    Uninstalling setuptools-68.0.0:\r\n",
      "      Successfully uninstalled setuptools-68.0.0\r\n",
      "Successfully installed setuptools-57.5.0\r\n",
      "\u001B[33mWARNING: Skipping pyvcf as it is not installed.\u001B[0m\u001B[33m\r\n",
      "\u001B[0mCollecting pyvcf\r\n",
      "  Using cached PyVCF-0.6.8-py3-none-any.whl\r\n",
      "Requirement already satisfied: setuptools in /home/wojtek/anaconda3/envs/pangolon/lib/python3.10/site-packages (from pyvcf) (57.5.0)\r\n",
      "Installing collected packages: pyvcf\r\n",
      "Successfully installed pyvcf-0.6.8\r\n"
     ]
    }
   ],
   "source": [
    "!pip install \"setuptools<58\" --upgrade\n",
    "!pip uninstall pyvcf\n",
    "!pip install pyvcf"
   ]
  },
  {
   "cell_type": "code",
   "execution_count": 2,
   "metadata": {
    "collapsed": false,
    "ExecuteTime": {
     "end_time": "2023-12-04T09:58:44.242189971Z",
     "start_time": "2023-12-04T09:58:43.072173026Z"
    }
   },
   "outputs": [
    {
     "name": "stdout",
     "output_type": "stream",
     "text": [
      "Requirement already satisfied: gffutils in /home/wojtek/anaconda3/envs/pangolon/lib/python3.10/site-packages (0.12)\r\n",
      "Requirement already satisfied: biopython in /home/wojtek/anaconda3/envs/pangolon/lib/python3.10/site-packages (1.81)\r\n",
      "Requirement already satisfied: pandas in /home/wojtek/anaconda3/envs/pangolon/lib/python3.10/site-packages (2.1.3)\r\n",
      "Requirement already satisfied: pyfastx in /home/wojtek/anaconda3/envs/pangolon/lib/python3.10/site-packages (2.0.2)\r\n",
      "Requirement already satisfied: pyfaidx>=0.5.5.2 in /home/wojtek/anaconda3/envs/pangolon/lib/python3.10/site-packages (from gffutils) (0.7.2.2)\r\n",
      "Requirement already satisfied: six>=1.12.0 in /home/wojtek/anaconda3/envs/pangolon/lib/python3.10/site-packages (from gffutils) (1.16.0)\r\n",
      "Requirement already satisfied: argh>=0.26.2 in /home/wojtek/anaconda3/envs/pangolon/lib/python3.10/site-packages (from gffutils) (0.30.4)\r\n",
      "Requirement already satisfied: argcomplete>=1.9.4 in /home/wojtek/anaconda3/envs/pangolon/lib/python3.10/site-packages (from gffutils) (3.1.6)\r\n",
      "Requirement already satisfied: simplejson in /home/wojtek/anaconda3/envs/pangolon/lib/python3.10/site-packages (from gffutils) (3.19.2)\r\n",
      "Requirement already satisfied: numpy in /home/wojtek/anaconda3/envs/pangolon/lib/python3.10/site-packages (from biopython) (1.26.2)\r\n",
      "Requirement already satisfied: python-dateutil>=2.8.2 in /home/wojtek/anaconda3/envs/pangolon/lib/python3.10/site-packages (from pandas) (2.8.2)\r\n",
      "Requirement already satisfied: pytz>=2020.1 in /home/wojtek/anaconda3/envs/pangolon/lib/python3.10/site-packages (from pandas) (2023.3.post1)\r\n",
      "Requirement already satisfied: tzdata>=2022.1 in /home/wojtek/anaconda3/envs/pangolon/lib/python3.10/site-packages (from pandas) (2023.3)\r\n",
      "Requirement already satisfied: setuptools in /home/wojtek/anaconda3/envs/pangolon/lib/python3.10/site-packages (from pyfaidx>=0.5.5.2->gffutils) (57.5.0)\r\n",
      "Requirement already satisfied: importlib-metadata in /home/wojtek/anaconda3/envs/pangolon/lib/python3.10/site-packages (from pyfaidx>=0.5.5.2->gffutils) (7.0.0)\r\n",
      "Requirement already satisfied: zipp>=0.5 in /home/wojtek/anaconda3/envs/pangolon/lib/python3.10/site-packages (from importlib-metadata->pyfaidx>=0.5.5.2->gffutils) (3.17.0)\r\n"
     ]
    }
   ],
   "source": [
    "!pip install  gffutils biopython pandas pyfastx\n",
    "!pip install torch --index-url https://download.pytorch.org/whl/cpu"
   ]
  },
  {
   "cell_type": "code",
   "execution_count": 2,
   "metadata": {
    "ExecuteTime": {
     "end_time": "2023-12-04T09:39:35.498695887Z",
     "start_time": "2023-12-04T09:38:52.136875756Z"
    },
    "colab": {
     "base_uri": "https://localhost:8080/"
    },
    "id": "NpEQ3rtI9BI6",
    "outputId": "cd0e884c-38d2-49a9-9191-af213b8ed7e1"
   },
   "outputs": [
    {
     "name": "stdout",
     "output_type": "stream",
     "text": [
      "Collecting gffutils\r\n",
      "  Downloading gffutils-0.12-py3-none-any.whl.metadata (1.5 kB)\r\n",
      "Collecting biopython\r\n",
      "  Downloading biopython-1.81-cp310-cp310-manylinux_2_17_x86_64.manylinux2014_x86_64.whl (3.1 MB)\r\n",
      "\u001B[2K     \u001B[90m━━━━━━━━━━━━━━━━━━━━━━━━━━━━━━━━━━━━━━━━\u001B[0m \u001B[32m3.1/3.1 MB\u001B[0m \u001B[31m7.7 MB/s\u001B[0m eta \u001B[36m0:00:00\u001B[0m00:01\u001B[0m00:01\u001B[0m\r\n",
      "\u001B[?25hCollecting pandas\r\n",
      "  Downloading pandas-2.1.3-cp310-cp310-manylinux_2_17_x86_64.manylinux2014_x86_64.whl.metadata (18 kB)\r\n",
      "Collecting pyfastx\r\n",
      "  Downloading pyfastx-2.0.2-cp310-cp310-manylinux_2_17_x86_64.manylinux2014_x86_64.whl.metadata (30 kB)\r\n",
      "Collecting pyfaidx>=0.5.5.2 (from gffutils)\r\n",
      "  Downloading pyfaidx-0.7.2.2-py3-none-any.whl.metadata (25 kB)\r\n",
      "Requirement already satisfied: six>=1.12.0 in /home/wojtek/anaconda3/envs/pangolon/lib/python3.10/site-packages (from gffutils) (1.16.0)\r\n",
      "Collecting argh>=0.26.2 (from gffutils)\r\n",
      "  Downloading argh-0.30.4-py3-none-any.whl.metadata (9.3 kB)\r\n",
      "Collecting argcomplete>=1.9.4 (from gffutils)\r\n",
      "  Downloading argcomplete-3.1.6-py3-none-any.whl.metadata (16 kB)\r\n",
      "Collecting simplejson (from gffutils)\r\n",
      "  Downloading simplejson-3.19.2-cp310-cp310-manylinux_2_5_x86_64.manylinux1_x86_64.manylinux_2_17_x86_64.manylinux2014_x86_64.whl.metadata (3.1 kB)\r\n",
      "Collecting numpy (from biopython)\r\n",
      "  Downloading numpy-1.26.2-cp310-cp310-manylinux_2_17_x86_64.manylinux2014_x86_64.whl.metadata (61 kB)\r\n",
      "\u001B[2K     \u001B[90m━━━━━━━━━━━━━━━━━━━━━━━━━━━━━━━━━━━━━━━━\u001B[0m \u001B[32m61.2/61.2 kB\u001B[0m \u001B[31m3.4 MB/s\u001B[0m eta \u001B[36m0:00:00\u001B[0m\r\n",
      "\u001B[?25hRequirement already satisfied: python-dateutil>=2.8.2 in /home/wojtek/anaconda3/envs/pangolon/lib/python3.10/site-packages (from pandas) (2.8.2)\r\n",
      "Collecting pytz>=2020.1 (from pandas)\r\n",
      "  Downloading pytz-2023.3.post1-py2.py3-none-any.whl.metadata (22 kB)\r\n",
      "Collecting tzdata>=2022.1 (from pandas)\r\n",
      "  Downloading tzdata-2023.3-py2.py3-none-any.whl (341 kB)\r\n",
      "\u001B[2K     \u001B[90m━━━━━━━━━━━━━━━━━━━━━━━━━━━━━━━━━━━━━━━\u001B[0m \u001B[32m341.8/341.8 kB\u001B[0m \u001B[31m8.3 MB/s\u001B[0m eta \u001B[36m0:00:00\u001B[0m00:01\u001B[0m\r\n",
      "\u001B[?25hRequirement already satisfied: setuptools in /home/wojtek/anaconda3/envs/pangolon/lib/python3.10/site-packages (from pyfaidx>=0.5.5.2->gffutils) (57.5.0)\r\n",
      "Collecting importlib-metadata (from pyfaidx>=0.5.5.2->gffutils)\r\n",
      "  Downloading importlib_metadata-7.0.0-py3-none-any.whl.metadata (4.9 kB)\r\n",
      "Collecting zipp>=0.5 (from importlib-metadata->pyfaidx>=0.5.5.2->gffutils)\r\n",
      "  Downloading zipp-3.17.0-py3-none-any.whl.metadata (3.7 kB)\r\n",
      "Downloading gffutils-0.12-py3-none-any.whl (1.6 MB)\r\n",
      "\u001B[2K   \u001B[90m━━━━━━━━━━━━━━━━━━━━━━━━━━━━━━━━━━━━━━━━\u001B[0m \u001B[32m1.6/1.6 MB\u001B[0m \u001B[31m10.9 MB/s\u001B[0m eta \u001B[36m0:00:00\u001B[0m00:01\u001B[0m00:01\u001B[0m\r\n",
      "\u001B[?25hDownloading pandas-2.1.3-cp310-cp310-manylinux_2_17_x86_64.manylinux2014_x86_64.whl (12.3 MB)\r\n",
      "\u001B[2K   \u001B[90m━━━━━━━━━━━━━━━━━━━━━━━━━━━━━━━━━━━━━━━━\u001B[0m \u001B[32m12.3/12.3 MB\u001B[0m \u001B[31m12.0 MB/s\u001B[0m eta \u001B[36m0:00:00\u001B[0m00:01\u001B[0m00:01\u001B[0m\r\n",
      "\u001B[?25hDownloading pyfastx-2.0.2-cp310-cp310-manylinux_2_17_x86_64.manylinux2014_x86_64.whl (1.1 MB)\r\n",
      "\u001B[2K   \u001B[90m━━━━━━━━━━━━━━━━━━━━━━━━━━━━━━━━━━━━━━━━\u001B[0m \u001B[32m1.1/1.1 MB\u001B[0m \u001B[31m11.0 MB/s\u001B[0m eta \u001B[36m0:00:00\u001B[0ma \u001B[36m0:00:01\u001B[0m\r\n",
      "\u001B[?25hDownloading argcomplete-3.1.6-py3-none-any.whl (41 kB)\r\n",
      "\u001B[2K   \u001B[90m━━━━━━━━━━━━━━━━━━━━━━━━━━━━━━━━━━━━━━━━\u001B[0m \u001B[32m41.7/41.7 kB\u001B[0m \u001B[31m1.6 MB/s\u001B[0m eta \u001B[36m0:00:00\u001B[0m\r\n",
      "\u001B[?25hDownloading argh-0.30.4-py3-none-any.whl (44 kB)\r\n",
      "\u001B[2K   \u001B[90m━━━━━━━━━━━━━━━━━━━━━━━━━━━━━━━━━━━━━━━━\u001B[0m \u001B[32m44.6/44.6 kB\u001B[0m \u001B[31m2.0 MB/s\u001B[0m eta \u001B[36m0:00:00\u001B[0m\r\n",
      "\u001B[?25hDownloading numpy-1.26.2-cp310-cp310-manylinux_2_17_x86_64.manylinux2014_x86_64.whl (18.2 MB)\r\n",
      "\u001B[2K   \u001B[90m━━━━━━━━━━━━━━━━━━━━━━━━━━━━━━━━━━━━━━━━\u001B[0m \u001B[32m18.2/18.2 MB\u001B[0m \u001B[31m13.1 MB/s\u001B[0m eta \u001B[36m0:00:00\u001B[0m00:01\u001B[0m00:01\u001B[0m\r\n",
      "\u001B[?25hDownloading pyfaidx-0.7.2.2-py3-none-any.whl (28 kB)\r\n",
      "Downloading pytz-2023.3.post1-py2.py3-none-any.whl (502 kB)\r\n",
      "\u001B[2K   \u001B[90m━━━━━━━━━━━━━━━━━━━━━━━━━━━━━━━━━━━━━━━━\u001B[0m \u001B[32m502.5/502.5 kB\u001B[0m \u001B[31m10.8 MB/s\u001B[0m eta \u001B[36m0:00:00\u001B[0m00:01\u001B[0m\r\n",
      "\u001B[?25hDownloading simplejson-3.19.2-cp310-cp310-manylinux_2_5_x86_64.manylinux1_x86_64.manylinux_2_17_x86_64.manylinux2014_x86_64.whl (137 kB)\r\n",
      "\u001B[2K   \u001B[90m━━━━━━━━━━━━━━━━━━━━━━━━━━━━━━━━━━━━━━━━\u001B[0m \u001B[32m137.9/137.9 kB\u001B[0m \u001B[31m5.3 MB/s\u001B[0m eta \u001B[36m0:00:00\u001B[0m\r\n",
      "\u001B[?25hDownloading importlib_metadata-7.0.0-py3-none-any.whl (23 kB)\r\n",
      "Downloading zipp-3.17.0-py3-none-any.whl (7.4 kB)\r\n",
      "Installing collected packages: pytz, pyfastx, zipp, tzdata, simplejson, numpy, argh, argcomplete, pandas, importlib-metadata, biopython, pyfaidx, gffutils\r\n",
      "Successfully installed argcomplete-3.1.6 argh-0.30.4 biopython-1.81 gffutils-0.12 importlib-metadata-7.0.0 numpy-1.26.2 pandas-2.1.3 pyfaidx-0.7.2.2 pyfastx-2.0.2 pytz-2023.3.post1 simplejson-3.19.2 tzdata-2023.3 zipp-3.17.0\r\n",
      "Cloning into 'Pangolin'...\r\n",
      "remote: Enumerating objects: 210, done.\u001B[K\r\n",
      "remote: Counting objects: 100% (42/42), done.\u001B[K\r\n",
      "remote: Compressing objects: 100% (17/17), done.\u001B[K\r\n",
      "remote: Total 210 (delta 31), reused 25 (delta 25), pack-reused 168\u001B[K\r\n",
      "Receiving objects: 100% (210/210), 190.05 MiB | 11.24 MiB/s, done.\r\n",
      "Resolving deltas: 100% (62/62), done.\r\n",
      "/media/data/coding/pzsp2/genetics-app/hello_algorithms/pangolin/Pangolin\n"
     ]
    },
    {
     "name": "stderr",
     "output_type": "stream",
     "text": [
      "/home/wojtek/anaconda3/envs/pangolon/lib/python3.10/site-packages/IPython/core/magics/osm.py:417: UserWarning: using dhist requires you to install the `pickleshare` library.\n",
      "  self.shell.db['dhist'] = compress_dhist(dhist)[-100:]\n"
     ]
    },
    {
     "name": "stdout",
     "output_type": "stream",
     "text": [
      "Processing /media/data/coding/pzsp2/genetics-app/hello_algorithms/pangolin/Pangolin\r\n",
      "  Preparing metadata (setup.py) ... \u001B[?25ldone\r\n",
      "\u001B[?25hBuilding wheels for collected packages: pangolin\r\n",
      "  Building wheel for pangolin (setup.py) ... \u001B[?25ldone\r\n",
      "\u001B[?25h  Created wheel for pangolin: filename=pangolin-1.0.2-py3-none-any.whl size=167816627 sha256=14274257881ae4bf6668956b637bea1fd4c272a9e928ef8b9fbb93d9f9084618\r\n",
      "  Stored in directory: /tmp/pip-ephem-wheel-cache-yk91b68j/wheels/2b/c3/54/3f62720b6f9eccf982a3b8b82f76fe39d90ddbc3cb1d42def0\r\n",
      "Successfully built pangolin\r\n",
      "Installing collected packages: pangolin\r\n",
      "Successfully installed pangolin-1.0.2\r\n",
      "[Errno 2] No such file or directory: '/content'\n",
      "/media/data/coding/pzsp2/genetics-app/hello_algorithms/pangolin/Pangolin\n"
     ]
    },
    {
     "name": "stderr",
     "output_type": "stream",
     "text": [
      "/home/wojtek/anaconda3/envs/pangolon/lib/python3.10/site-packages/IPython/core/magics/osm.py:393: UserWarning: using bookmarks requires you to install the `pickleshare` library.\n",
      "  bkms = self.shell.db.get('bookmarks', {})\n"
     ]
    }
   ],
   "source": [
    "!git clone https://github.com/tkzeng/Pangolin.git\n",
    "%cd Pangolin\n",
    "!pip install .\n",
    "%cd .."
   ]
  },
  {
   "cell_type": "code",
   "execution_count": null,
   "metadata": {
    "ExecuteTime": {
     "start_time": "2023-12-04T09:40:21.147477872Z"
    },
    "colab": {
     "base_uri": "https://localhost:8080/"
    },
    "id": "fbyc3ygj9Fpr",
    "outputId": "7a0ca58c-3db7-4b54-c703-02d9c7a99d7c"
   },
   "outputs": [
    {
     "name": "stdout",
     "output_type": "stream",
     "text": [
      "--2023-12-04 10:40:21--  https://ftp.ebi.ac.uk/pub/databases/gencode/Gencode_human/release_38/GRCh38.primary_assembly.genome.fa.gz\r\n",
      "Resolving ftp.ebi.ac.uk (ftp.ebi.ac.uk)... 193.62.193.165\r\n",
      "Connecting to ftp.ebi.ac.uk (ftp.ebi.ac.uk)|193.62.193.165|:443... connected.\r\n",
      "HTTP request sent, awaiting response... 200 OK\r\n",
      "Length: 844691642 (806M) [application/x-gzip]\r\n",
      "Saving to: ‘GRCh38.primary_assembly.genome.fa.gz’\r\n",
      "\r\n",
      "               GRCh  13%[=>                  ] 108.79M  1.39MB/s    eta 8m 42s ^C\r\n",
      "--2023-12-04 10:41:43--  https://www.dropbox.com/sh/6zo0aegoalvgd9f/AADOhGYJo8tbUhpscp3wSFj6a/gencode.v38.annotation.db\r\n",
      "Resolving www.dropbox.com (www.dropbox.com)... 162.125.66.18, 2620:100:6022:18::a27d:4212\r\n",
      "Connecting to www.dropbox.com (www.dropbox.com)|162.125.66.18|:443... connected.\r\n",
      "HTTP request sent, awaiting response... 302 Found\r\n",
      "Location: /sh/raw/6zo0aegoalvgd9f/AADOhGYJo8tbUhpscp3wSFj6a/gencode.v38.annotation.db [following]\r\n",
      "--2023-12-04 10:41:48--  https://www.dropbox.com/sh/raw/6zo0aegoalvgd9f/AADOhGYJo8tbUhpscp3wSFj6a/gencode.v38.annotation.db\r\n",
      "Reusing existing connection to www.dropbox.com:443.\r\n",
      "HTTP request sent, awaiting response... 302 Found\r\n",
      "Location: https://uc80380333608b3e7a0bda98aea9.dl.dropboxusercontent.com/cd/0/inline/CIxd7a28xhhxRwVgjwSPMpLxsB8uL_1w_ZBbhzbCE34QyNGYq3niFQmEJLf4HuIojuRclFuSwIIg_NsML8if0cVZ3mjoKz-kQHU6fVSKjFcD--kzPzb0oMopeeLuD-vCUU7Eu0qYJ5FXIE8WUrP3UqrJ/file# [following]\r\n",
      "--2023-12-04 10:41:49--  https://uc80380333608b3e7a0bda98aea9.dl.dropboxusercontent.com/cd/0/inline/CIxd7a28xhhxRwVgjwSPMpLxsB8uL_1w_ZBbhzbCE34QyNGYq3niFQmEJLf4HuIojuRclFuSwIIg_NsML8if0cVZ3mjoKz-kQHU6fVSKjFcD--kzPzb0oMopeeLuD-vCUU7Eu0qYJ5FXIE8WUrP3UqrJ/file\r\n",
      "Resolving uc80380333608b3e7a0bda98aea9.dl.dropboxusercontent.com (uc80380333608b3e7a0bda98aea9.dl.dropboxusercontent.com)... 162.125.66.15, 2620:100:6022:15::a27d:420f\r\n",
      "Connecting to uc80380333608b3e7a0bda98aea9.dl.dropboxusercontent.com (uc80380333608b3e7a0bda98aea9.dl.dropboxusercontent.com)|162.125.66.15|:443... connected.\r\n",
      "HTTP request sent, awaiting response... 302 Found\r\n",
      "Location: /cd/0/inline2/CIxFKGpV2o5eE2y7hJkErc2EH1UPHi7GqL272Drtcan8EzhCj5EqIkTNZJrEDnmMKexbb_F0sTH1h0iJXs6iEQ6ZfDfkkgHXxp6kyWbqypiFliYo94Ip248KvYj0EulQnCpdIfCVuiAQ-pX1jptmPBDwTeZWvHOOK6CqTJWgHTR_My77aEabBZ_mkjNGIvD70KHeVcbiWYOEbNsSPVca7t5I2eCELzjIrVv55YdXS8xBYtUAHMgp9acRt0ideZTqQfT5RJPB9RZG5mC344GdhjdnZ4DN0aBnyZ2vZbuaOsKWs8fBvZu6VbgHA_uqBqNqXOcCfTJ7lwczfPMh9IC87uWBVHyn1_K7DKH4933TSlKx43EQPQeAJxdWPfyYuNs3z30/file [following]\r\n",
      "--2023-12-04 10:41:50--  https://uc80380333608b3e7a0bda98aea9.dl.dropboxusercontent.com/cd/0/inline2/CIxFKGpV2o5eE2y7hJkErc2EH1UPHi7GqL272Drtcan8EzhCj5EqIkTNZJrEDnmMKexbb_F0sTH1h0iJXs6iEQ6ZfDfkkgHXxp6kyWbqypiFliYo94Ip248KvYj0EulQnCpdIfCVuiAQ-pX1jptmPBDwTeZWvHOOK6CqTJWgHTR_My77aEabBZ_mkjNGIvD70KHeVcbiWYOEbNsSPVca7t5I2eCELzjIrVv55YdXS8xBYtUAHMgp9acRt0ideZTqQfT5RJPB9RZG5mC344GdhjdnZ4DN0aBnyZ2vZbuaOsKWs8fBvZu6VbgHA_uqBqNqXOcCfTJ7lwczfPMh9IC87uWBVHyn1_K7DKH4933TSlKx43EQPQeAJxdWPfyYuNs3z30/file\r\n",
      "Reusing existing connection to uc80380333608b3e7a0bda98aea9.dl.dropboxusercontent.com:443.\r\n",
      "HTTP request sent, awaiting response... 200 OK\r\n",
      "Length: 380366848 (363M) [application/octet-stream]\r\n",
      "Saving to: ‘gencode.v38.annotation.db’\r\n",
      "\r\n",
      "db                   19%[==>                 ]  70.05M  10.5MB/s    eta 30s    "
     ]
    }
   ],
   "source": [
    "# GRCh38 files\n",
    "!wget https://ftp.ebi.ac.uk/pub/databases/gencode/Gencode_human/release_38/GRCh38.primary_assembly.genome.fa.gz\n",
    "!wget https://www.dropbox.com/sh/6zo0aegoalvgd9f/AADOhGYJo8tbUhpscp3wSFj6a/gencode.v38.annotation.db"
   ]
  },
  {
   "cell_type": "code",
   "execution_count": null,
   "metadata": {
    "colab": {
     "base_uri": "https://localhost:8080/"
    },
    "id": "mJhWjTEv_Ktv",
    "outputId": "df27ed8d-e5ab-4dad-f2aa-8573fd5d67bc"
   },
   "outputs": [],
   "source": [
    "!pangolin Pangolin/examples/brca.csv GRCh37.primary_assembly.genome.fa.gz gencode.v38lift37.annotation.db brca.pangolin"
   ]
  },
  {
   "cell_type": "code",
   "execution_count": null,
   "metadata": {
    "colab": {
     "base_uri": "https://localhost:8080/"
    },
    "id": "wfxo0oT8_dBL",
    "outputId": "3787a591-99af-4c92-cff8-a4ee38f5963a"
   },
   "outputs": [],
   "source": [
    "# View the last few lines of the output VCF\n",
    "!tail brca.pangolin.csv"
   ]
  }
 ],
 "metadata": {
  "accelerator": "GPU",
  "colab": {
   "gpuType": "T4",
   "name": "PangolinColab.ipynb",
   "provenance": []
  },
  "kernelspec": {
   "display_name": "Python 3 (ipykernel)",
   "language": "python",
   "name": "python3"
  },
  "language_info": {
   "name": "python",
   "version": "3.10.13"
  }
 },
 "nbformat": 4,
 "nbformat_minor": 0
}
