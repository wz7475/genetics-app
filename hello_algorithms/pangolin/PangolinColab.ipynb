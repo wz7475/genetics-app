{
  "nbformat": 4,
  "nbformat_minor": 0,
  "metadata": {
    "colab": {
      "name": "PangolinColab.ipynb",
      "provenance": [],
      "gpuType": "T4"
    },
    "kernelspec": {
      "name": "python3",
      "display_name": "Python 3"
    },
    "language_info": {
      "name": "python"
    },
    "accelerator": "GPU"
  },
  "cells": [
    {
      "cell_type": "markdown",
      "metadata": {
        "id": "8ZvdwtZdbwhr"
      },
      "source": [
        "# Running Pangolin on Colab"
      ]
    },
    {
      "cell_type": "markdown",
      "metadata": {
        "id": "zobfNkznbBul"
      },
      "source": [
        "0. By default, Colab will not use a GPU. To use a GPU, choose: Runtime -> Change runtime type -> GPU.  "
      ]
    },
    {
      "cell_type": "code",
      "source": [
        "from google.colab import drive\n",
        "drive.mount('/content/drive')"
      ],
      "metadata": {
        "id": "_56IgutQuBTG"
      },
      "execution_count": null,
      "outputs": []
    },
    {
      "cell_type": "markdown",
      "metadata": {
        "id": "N4mkOLJmcBoK"
      },
      "source": [
        "1. Install Pangolin and dependencies\n"
      ]
    },
    {
      "cell_type": "code",
      "source": [
        "!pip install \"setuptools<58\" --upgrade\n",
        "!pip uninstall pyvcf\n",
        "!pip install pyvcf"
      ],
      "metadata": {
        "id": "8s-6rBDOvf3P",
        "outputId": "a50581f7-df28-4e62-ce88-4c5aa3c4b288",
        "colab": {
          "base_uri": "https://localhost:8080/",
          "height": 670
        }
      },
      "execution_count": 9,
      "outputs": [
        {
          "output_type": "stream",
          "name": "stdout",
          "text": [
            "Collecting setuptools<58\n",
            "  Downloading setuptools-57.5.0-py3-none-any.whl (819 kB)\n",
            "\u001b[2K     \u001b[90m━━━━━━━━━━━━━━━━━━━━━━━━━━━━━━━━━━━━━━━━\u001b[0m \u001b[32m819.3/819.3 kB\u001b[0m \u001b[31m9.3 MB/s\u001b[0m eta \u001b[36m0:00:00\u001b[0m\n",
            "\u001b[?25hInstalling collected packages: setuptools\n",
            "  Attempting uninstall: setuptools\n",
            "    Found existing installation: setuptools 67.7.2\n",
            "    Uninstalling setuptools-67.7.2:\n",
            "      Successfully uninstalled setuptools-67.7.2\n",
            "\u001b[31mERROR: pip's dependency resolver does not currently take into account all the packages that are installed. This behaviour is the source of the following dependency conflicts.\n",
            "ipython 7.34.0 requires jedi>=0.16, which is not installed.\n",
            "lida 0.0.10 requires fastapi, which is not installed.\n",
            "lida 0.0.10 requires kaleido, which is not installed.\n",
            "lida 0.0.10 requires python-multipart, which is not installed.\n",
            "lida 0.0.10 requires uvicorn, which is not installed.\n",
            "arviz 0.15.1 requires setuptools>=60.0.0, but you have setuptools 57.5.0 which is incompatible.\n",
            "cvxpy 1.3.2 requires setuptools>65.5.1, but you have setuptools 57.5.0 which is incompatible.\u001b[0m\u001b[31m\n",
            "\u001b[0mSuccessfully installed setuptools-57.5.0\n"
          ]
        },
        {
          "output_type": "display_data",
          "data": {
            "application/vnd.colab-display-data+json": {
              "pip_warning": {
                "packages": [
                  "_distutils_hack",
                  "pkg_resources",
                  "setuptools"
                ]
              }
            }
          },
          "metadata": {}
        },
        {
          "output_type": "stream",
          "name": "stdout",
          "text": [
            "\u001b[33mWARNING: Skipping pyvcf as it is not installed.\u001b[0m\u001b[33m\n",
            "\u001b[0mCollecting pyvcf\n",
            "  Using cached PyVCF-0.6.8.tar.gz (34 kB)\n",
            "  Preparing metadata (setup.py) ... \u001b[?25l\u001b[?25hdone\n",
            "Requirement already satisfied: setuptools in /usr/local/lib/python3.10/dist-packages (from pyvcf) (57.5.0)\n",
            "Building wheels for collected packages: pyvcf\n",
            "  Building wheel for pyvcf (setup.py) ... \u001b[?25l\u001b[?25hdone\n",
            "  Created wheel for pyvcf: filename=PyVCF-0.6.8-cp310-cp310-linux_x86_64.whl size=174435 sha256=56b0f9e8ea2d9cefd436b7a41ce039a2448cea9e234b8e548bcec2b5d43b0635\n",
            "  Stored in directory: /root/.cache/pip/wheels/da/88/3b/b691691894da44fc597c93ba7f953a46d1413ed7411906a6d2\n",
            "Successfully built pyvcf\n",
            "Installing collected packages: pyvcf\n",
            "Successfully installed pyvcf-0.6.8\n"
          ]
        }
      ]
    },
    {
      "cell_type": "code",
      "metadata": {
        "id": "NpEQ3rtI9BI6",
        "outputId": "cd0e884c-38d2-49a9-9191-af213b8ed7e1",
        "colab": {
          "base_uri": "https://localhost:8080/"
        }
      },
      "source": [
        "!pip install  gffutils biopython pandas pyfastx\n",
        "!git clone https://github.com/tkzeng/Pangolin.git\n",
        "%cd Pangolin\n",
        "!pip install .\n",
        "%cd /content"
      ],
      "execution_count": 13,
      "outputs": [
        {
          "output_type": "stream",
          "name": "stdout",
          "text": [
            "Collecting gffutils\n",
            "  Downloading gffutils-0.12-py3-none-any.whl (1.6 MB)\n",
            "\u001b[2K     \u001b[90m━━━━━━━━━━━━━━━━━━━━━━━━━━━━━━━━━━━━━━━━\u001b[0m \u001b[32m1.6/1.6 MB\u001b[0m \u001b[31m21.0 MB/s\u001b[0m eta \u001b[36m0:00:00\u001b[0m\n",
            "\u001b[?25hCollecting biopython\n",
            "  Downloading biopython-1.81-cp310-cp310-manylinux_2_17_x86_64.manylinux2014_x86_64.whl (3.1 MB)\n",
            "\u001b[2K     \u001b[90m━━━━━━━━━━━━━━━━━━━━━━━━━━━━━━━━━━━━━━━━\u001b[0m \u001b[32m3.1/3.1 MB\u001b[0m \u001b[31m83.2 MB/s\u001b[0m eta \u001b[36m0:00:00\u001b[0m\n",
            "\u001b[?25hRequirement already satisfied: pandas in /usr/local/lib/python3.10/dist-packages (1.5.3)\n",
            "Collecting pyfastx\n",
            "  Downloading pyfastx-2.0.2-cp310-cp310-manylinux_2_17_x86_64.manylinux2014_x86_64.whl (1.1 MB)\n",
            "\u001b[2K     \u001b[90m━━━━━━━━━━━━━━━━━━━━━━━━━━━━━━━━━━━━━━━━\u001b[0m \u001b[32m1.1/1.1 MB\u001b[0m \u001b[31m72.4 MB/s\u001b[0m eta \u001b[36m0:00:00\u001b[0m\n",
            "\u001b[?25hCollecting pyfaidx>=0.5.5.2 (from gffutils)\n",
            "  Downloading pyfaidx-0.7.2.2-py3-none-any.whl (28 kB)\n",
            "Requirement already satisfied: six>=1.12.0 in /usr/local/lib/python3.10/dist-packages (from gffutils) (1.16.0)\n",
            "Collecting argh>=0.26.2 (from gffutils)\n",
            "  Downloading argh-0.30.4-py3-none-any.whl (44 kB)\n",
            "\u001b[2K     \u001b[90m━━━━━━━━━━━━━━━━━━━━━━━━━━━━━━━━━━━━━━━━\u001b[0m \u001b[32m44.6/44.6 kB\u001b[0m \u001b[31m6.6 MB/s\u001b[0m eta \u001b[36m0:00:00\u001b[0m\n",
            "\u001b[?25hCollecting argcomplete>=1.9.4 (from gffutils)\n",
            "  Downloading argcomplete-3.1.6-py3-none-any.whl (41 kB)\n",
            "\u001b[2K     \u001b[90m━━━━━━━━━━━━━━━━━━━━━━━━━━━━━━━━━━━━━━━━\u001b[0m \u001b[32m41.7/41.7 kB\u001b[0m \u001b[31m5.5 MB/s\u001b[0m eta \u001b[36m0:00:00\u001b[0m\n",
            "\u001b[?25hCollecting simplejson (from gffutils)\n",
            "  Downloading simplejson-3.19.2-cp310-cp310-manylinux_2_5_x86_64.manylinux1_x86_64.manylinux_2_17_x86_64.manylinux2014_x86_64.whl (137 kB)\n",
            "\u001b[2K     \u001b[90m━━━━━━━━━━━━━━━━━━━━━━━━━━━━━━━━━━━━━━━━\u001b[0m \u001b[32m137.9/137.9 kB\u001b[0m \u001b[31m18.8 MB/s\u001b[0m eta \u001b[36m0:00:00\u001b[0m\n",
            "\u001b[?25hRequirement already satisfied: numpy in /usr/local/lib/python3.10/dist-packages (from biopython) (1.23.5)\n",
            "Requirement already satisfied: python-dateutil>=2.8.1 in /usr/local/lib/python3.10/dist-packages (from pandas) (2.8.2)\n",
            "Requirement already satisfied: pytz>=2020.1 in /usr/local/lib/python3.10/dist-packages (from pandas) (2023.3.post1)\n",
            "Requirement already satisfied: setuptools in /usr/local/lib/python3.10/dist-packages (from pyfaidx>=0.5.5.2->gffutils) (57.5.0)\n",
            "Requirement already satisfied: importlib-metadata in /usr/local/lib/python3.10/dist-packages (from pyfaidx>=0.5.5.2->gffutils) (6.8.0)\n",
            "Requirement already satisfied: zipp>=0.5 in /usr/local/lib/python3.10/dist-packages (from importlib-metadata->pyfaidx>=0.5.5.2->gffutils) (3.17.0)\n",
            "Installing collected packages: pyfastx, simplejson, biopython, argh, argcomplete, pyfaidx, gffutils\n",
            "Successfully installed argcomplete-3.1.6 argh-0.30.4 biopython-1.81 gffutils-0.12 pyfaidx-0.7.2.2 pyfastx-2.0.2 simplejson-3.19.2\n",
            "fatal: destination path 'Pangolin' already exists and is not an empty directory.\n",
            "/content/Pangolin\n",
            "Processing /content/Pangolin\n",
            "  Preparing metadata (setup.py) ... \u001b[?25l\u001b[?25hdone\n",
            "Building wheels for collected packages: pangolin\n",
            "  Building wheel for pangolin (setup.py) ... \u001b[?25l\u001b[?25hdone\n",
            "  Created wheel for pangolin: filename=pangolin-1.0.2-py3-none-any.whl size=167816625 sha256=6247caf478ea3a6b05a68a2725e061d0e545334d8082b0f726bec88cf657656f\n",
            "  Stored in directory: /tmp/pip-ephem-wheel-cache-22kq_gga/wheels/29/bd/84/04e909acb5c7a9dbc365a79fc1c9bf3a282c94f5c8058148cc\n",
            "Successfully built pangolin\n",
            "Installing collected packages: pangolin\n",
            "  Attempting uninstall: pangolin\n",
            "    Found existing installation: pangolin 1.0.2\n",
            "    Uninstalling pangolin-1.0.2:\n",
            "      Successfully uninstalled pangolin-1.0.2\n",
            "Successfully installed pangolin-1.0.2\n",
            "/content\n"
          ]
        }
      ]
    },
    {
      "cell_type": "markdown",
      "metadata": {
        "id": "klBpVcuDcH9s"
      },
      "source": [
        "2. Upload input files. For details on ways to do this (for example, through Google Drive), see: https://colab.research.google.com/notebooks/io.ipynb\n"
      ]
    },
    {
      "cell_type": "code",
      "metadata": {
        "id": "fbyc3ygj9Fpr",
        "outputId": "7a0ca58c-3db7-4b54-c703-02d9c7a99d7c",
        "colab": {
          "base_uri": "https://localhost:8080/"
        }
      },
      "source": [
        "# GRCh37 files\n",
        "!wget ftp://ftp.ebi.ac.uk/pub/databases/gencode/Gencode_human/release_30/GRCh37_mapping/GRCh37.primary_assembly.genome.fa.gz\n",
        "!wget https://www.dropbox.com/sh/6zo0aegoalvgd9f/AAA9Q90Pi1UqSzX99R_NM803a/gencode.v38lift37.annotation.db\n",
        "\n",
        "# GRCh38 files\n",
        "#!wget https://ftp.ebi.ac.uk/pub/databases/gencode/Gencode_human/release_38/GRCh38.primary_assembly.genome.fa.gz\n",
        "#!wget https://www.dropbox.com/sh/6zo0aegoalvgd9f/AADOhGYJo8tbUhpscp3wSFj6a/gencode.v38.annotation.db"
      ],
      "execution_count": 2,
      "outputs": [
        {
          "output_type": "stream",
          "name": "stdout",
          "text": [
            "--2023-11-25 13:43:21--  ftp://ftp.ebi.ac.uk/pub/databases/gencode/Gencode_human/release_30/GRCh37_mapping/GRCh37.primary_assembly.genome.fa.gz\n",
            "           => ‘GRCh37.primary_assembly.genome.fa.gz’\n",
            "Resolving ftp.ebi.ac.uk (ftp.ebi.ac.uk)... 193.62.193.165\n",
            "Connecting to ftp.ebi.ac.uk (ftp.ebi.ac.uk)|193.62.193.165|:21... connected.\n",
            "Error in server response. Closing.\n",
            "Retrying.\n",
            "\n",
            "--2023-11-25 13:43:23--  ftp://ftp.ebi.ac.uk/pub/databases/gencode/Gencode_human/release_30/GRCh37_mapping/GRCh37.primary_assembly.genome.fa.gz\n",
            "  (try: 2) => ‘GRCh37.primary_assembly.genome.fa.gz’\n",
            "Connecting to ftp.ebi.ac.uk (ftp.ebi.ac.uk)|193.62.193.165|:21... connected.\n",
            "Logging in as anonymous ... Logged in!\n",
            "==> SYST ... done.    ==> PWD ... done.\n",
            "==> TYPE I ... done.  ==> CWD (1) /pub/databases/gencode/Gencode_human/release_30/GRCh37_mapping ... done.\n",
            "==> SIZE GRCh37.primary_assembly.genome.fa.gz ... 869924494\n",
            "==> PASV ... done.    ==> RETR GRCh37.primary_assembly.genome.fa.gz ... done.\n",
            "Length: 869924494 (830M) (unauthoritative)\n",
            "\n",
            "GRCh37.primary_asse 100%[===================>] 829.62M  25.1MB/s    in 36s     \n",
            "\n",
            "2023-11-25 13:44:01 (22.9 MB/s) - ‘GRCh37.primary_assembly.genome.fa.gz’ saved [869924494]\n",
            "\n",
            "--2023-11-25 13:44:01--  https://www.dropbox.com/sh/6zo0aegoalvgd9f/AAA9Q90Pi1UqSzX99R_NM803a/gencode.v38lift37.annotation.db\n",
            "Resolving www.dropbox.com (www.dropbox.com)... 162.125.80.18, 2620:100:6031:18::a27d:5112\n",
            "Connecting to www.dropbox.com (www.dropbox.com)|162.125.80.18|:443... connected.\n",
            "HTTP request sent, awaiting response... 302 Found\n",
            "Location: /sh/raw/6zo0aegoalvgd9f/AAA9Q90Pi1UqSzX99R_NM803a/gencode.v38lift37.annotation.db [following]\n",
            "--2023-11-25 13:44:02--  https://www.dropbox.com/sh/raw/6zo0aegoalvgd9f/AAA9Q90Pi1UqSzX99R_NM803a/gencode.v38lift37.annotation.db\n",
            "Reusing existing connection to www.dropbox.com:443.\n",
            "HTTP request sent, awaiting response... 302 Found\n",
            "Location: https://uca3184a8c0b848b14fdea8a5544.dl.dropboxusercontent.com/cd/0/inline/CIOc_f8eb-rZX34Apf3jovilhNjaFi0o6y-ok_2WCnFs7318oQRTfT3GCfj7SEhJvsbXLRtNFrlbhkebasvnHtuv12hIXLoJzetcHQgb4SuuPGIjUl5zCJDD1JdBSU703iPqJTy0LO6ChxfRVcpG9L2B/file# [following]\n",
            "--2023-11-25 13:44:02--  https://uca3184a8c0b848b14fdea8a5544.dl.dropboxusercontent.com/cd/0/inline/CIOc_f8eb-rZX34Apf3jovilhNjaFi0o6y-ok_2WCnFs7318oQRTfT3GCfj7SEhJvsbXLRtNFrlbhkebasvnHtuv12hIXLoJzetcHQgb4SuuPGIjUl5zCJDD1JdBSU703iPqJTy0LO6ChxfRVcpG9L2B/file\n",
            "Resolving uca3184a8c0b848b14fdea8a5544.dl.dropboxusercontent.com (uca3184a8c0b848b14fdea8a5544.dl.dropboxusercontent.com)... 162.125.81.15, 2620:100:6031:15::a27d:510f\n",
            "Connecting to uca3184a8c0b848b14fdea8a5544.dl.dropboxusercontent.com (uca3184a8c0b848b14fdea8a5544.dl.dropboxusercontent.com)|162.125.81.15|:443... connected.\n",
            "HTTP request sent, awaiting response... 302 Found\n",
            "Location: /cd/0/inline2/CIPrGoCQEW22uSyUJt29rC_afiijIQTif-Nsqnh52fjDBzKhienxuThDNS7j24tzex4wSE-5SFfdcG3KjO1vxcvMxF2v31ZcJWs_LgvZ06_Y_EY69Jn6sgQJm9fnYHwO9DOA8HNDbfcHn7YXC2RWXgfLtOvHxMq89VV7-bhoYDTK9KAxk6QGuMMcWdEanBGyhOcsHtLUbCW7-89EcjvP6o8s5IvkdGbLvej6tfYpHNKASE4oJys2c2rOYGGmolU8cnV2a44ZNksuvPnqLwV66Upcu_z65ryS2gYsgy053e4ouooCwAb76S6CyEqzukxu6g_Z0MGluT5ft44D8KlmUzAwrKa55_v_bHI6wOKuL8joo6fvvMAFRSC70o8jQCu_VmI/file [following]\n",
            "--2023-11-25 13:44:03--  https://uca3184a8c0b848b14fdea8a5544.dl.dropboxusercontent.com/cd/0/inline2/CIPrGoCQEW22uSyUJt29rC_afiijIQTif-Nsqnh52fjDBzKhienxuThDNS7j24tzex4wSE-5SFfdcG3KjO1vxcvMxF2v31ZcJWs_LgvZ06_Y_EY69Jn6sgQJm9fnYHwO9DOA8HNDbfcHn7YXC2RWXgfLtOvHxMq89VV7-bhoYDTK9KAxk6QGuMMcWdEanBGyhOcsHtLUbCW7-89EcjvP6o8s5IvkdGbLvej6tfYpHNKASE4oJys2c2rOYGGmolU8cnV2a44ZNksuvPnqLwV66Upcu_z65ryS2gYsgy053e4ouooCwAb76S6CyEqzukxu6g_Z0MGluT5ft44D8KlmUzAwrKa55_v_bHI6wOKuL8joo6fvvMAFRSC70o8jQCu_VmI/file\n",
            "Reusing existing connection to uca3184a8c0b848b14fdea8a5544.dl.dropboxusercontent.com:443.\n",
            "HTTP request sent, awaiting response... 200 OK\n",
            "Length: 423260160 (404M) [application/octet-stream]\n",
            "Saving to: ‘gencode.v38lift37.annotation.db’\n",
            "\n",
            "gencode.v38lift37.a 100%[===================>] 403.65M  12.7MB/s    in 31s     \n",
            "\n",
            "2023-11-25 13:44:35 (12.9 MB/s) - ‘gencode.v38lift37.annotation.db’ saved [423260160/423260160]\n",
            "\n"
          ]
        }
      ]
    },
    {
      "cell_type": "markdown",
      "metadata": {
        "id": "UeR2dcKZcTOD"
      },
      "source": [
        "3. Run Pangolin"
      ]
    },
    {
      "cell_type": "code",
      "metadata": {
        "id": "mJhWjTEv_Ktv",
        "outputId": "df27ed8d-e5ab-4dad-f2aa-8573fd5d67bc",
        "colab": {
          "base_uri": "https://localhost:8080/"
        }
      },
      "source": [
        "!pangolin Pangolin/examples/brca.csv GRCh37.primary_assembly.genome.fa.gz gencode.v38lift37.annotation.db brca.pangolin"
      ],
      "execution_count": 14,
      "outputs": [
        {
          "output_type": "stream",
          "name": "stdout",
          "text": [
            "Using GPU\n"
          ]
        }
      ]
    },
    {
      "cell_type": "code",
      "metadata": {
        "id": "wfxo0oT8_dBL",
        "outputId": "3787a591-99af-4c92-cff8-a4ee38f5963a",
        "colab": {
          "base_uri": "https://localhost:8080/"
        }
      },
      "source": [
        "# View the last few lines of the output VCF\n",
        "!tail brca.pangolin.csv"
      ],
      "execution_count": 19,
      "outputs": [
        {
          "output_type": "stream",
          "name": "stdout",
          "text": [
            "BRCA1,17,41276127,A,G,ENSG00000012048.23_1|6:0.009999999776482582|5:-0.0|Warnings:\n",
            "BRCA1,17,41276127,A,C,ENSG00000012048.23_1|-8:0.0|5:-0.05999999865889549|Warnings:\n",
            "BRCA1,17,41276126,C,T,ENSG00000012048.23_1|-2:0.12999999523162842|6:-0.07000000029802322|Warnings:\n",
            "BRCA1,17,41276126,C,G,ENSG00000012048.23_1|-7:0.23000000417232513|6:-0.05000000074505806|Warnings:\n",
            "BRCA1,17,41276126,C,A,ENSG00000012048.23_1|-7:0.47999998927116394|6:-0.1599999964237213|Warnings:\n",
            "BRCA1,17,41276125,C,T,ENSG00000012048.23_1|-6:0.03999999910593033|7:-0.05000000074505806|Warnings:\n",
            "BRCA1,17,41276125,C,G,ENSG00000012048.23_1|-6:0.07999999821186066|7:-0.029999999329447746|Warnings:\n",
            "BRCA1,17,41276125,C,A,ENSG00000012048.23_1|-6:0.23999999463558197|7:-0.25999999046325684|Warnings:\n",
            "BRCA1,17,41276124,T,G,ENSG00000012048.23_1|-5:0.019999999552965164|8:-0.05000000074505806|Warnings:\n",
            "BRCA1,17,41276124,T,C,ENSG00000012048.23_1|4:0.0|8:-0.03999999910593033|Warnings:\n"
          ]
        }
      ]
    },
    {
      "cell_type": "markdown",
      "metadata": {
        "id": "WywDuD8Nchc9"
      },
      "source": [
        "4. Download the VCF to your local computer"
      ]
    },
    {
      "cell_type": "code",
      "metadata": {
        "id": "jeAy8PRjBSRp",
        "outputId": "4ea731be-a684-469b-8c31-3bfa2dee7059",
        "colab": {
          "base_uri": "https://localhost:8080/",
          "height": 17
        }
      },
      "source": [
        "from google.colab import files\n",
        "files.download(\"brca.pangolin.csv\")"
      ],
      "execution_count": 18,
      "outputs": [
        {
          "output_type": "display_data",
          "data": {
            "text/plain": [
              "<IPython.core.display.Javascript object>"
            ],
            "application/javascript": [
              "\n",
              "    async function download(id, filename, size) {\n",
              "      if (!google.colab.kernel.accessAllowed) {\n",
              "        return;\n",
              "      }\n",
              "      const div = document.createElement('div');\n",
              "      const label = document.createElement('label');\n",
              "      label.textContent = `Downloading \"${filename}\": `;\n",
              "      div.appendChild(label);\n",
              "      const progress = document.createElement('progress');\n",
              "      progress.max = size;\n",
              "      div.appendChild(progress);\n",
              "      document.body.appendChild(div);\n",
              "\n",
              "      const buffers = [];\n",
              "      let downloaded = 0;\n",
              "\n",
              "      const channel = await google.colab.kernel.comms.open(id);\n",
              "      // Send a message to notify the kernel that we're ready.\n",
              "      channel.send({})\n",
              "\n",
              "      for await (const message of channel.messages) {\n",
              "        // Send a message to notify the kernel that we're ready.\n",
              "        channel.send({})\n",
              "        if (message.buffers) {\n",
              "          for (const buffer of message.buffers) {\n",
              "            buffers.push(buffer);\n",
              "            downloaded += buffer.byteLength;\n",
              "            progress.value = downloaded;\n",
              "          }\n",
              "        }\n",
              "      }\n",
              "      const blob = new Blob(buffers, {type: 'application/binary'});\n",
              "      const a = document.createElement('a');\n",
              "      a.href = window.URL.createObjectURL(blob);\n",
              "      a.download = filename;\n",
              "      div.appendChild(a);\n",
              "      a.click();\n",
              "      div.remove();\n",
              "    }\n",
              "  "
            ]
          },
          "metadata": {}
        },
        {
          "output_type": "display_data",
          "data": {
            "text/plain": [
              "<IPython.core.display.Javascript object>"
            ],
            "application/javascript": [
              "download(\"download_6489e730-f1b4-49e7-a51e-4e8dab1c0f12\", \"brca.pangolin.csv\", 3111)"
            ]
          },
          "metadata": {}
        }
      ]
    }
  ]
}