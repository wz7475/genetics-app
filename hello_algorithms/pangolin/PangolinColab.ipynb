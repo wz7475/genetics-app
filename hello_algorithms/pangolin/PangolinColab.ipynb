{
 "nbformat": 4,
 "nbformat_minor": 0,
 "metadata": {
  "colab": {
   "name": "PangolinColab.ipynb",
   "provenance": [],
   "gpuType": "T4"
  },
  "kernelspec": {
   "name": "python3",
   "language": "python",
   "display_name": "Python 3 (ipykernel)"
  },
  "language_info": {
   "name": "python"
  },
  "accelerator": "GPU"
 },
 "cells": [
  {
   "cell_type": "code",
   "source": [
    "!pip install \"setuptools<58\" --upgrade\n",
    "!pip uninstall pyvcf\n",
    "!pip install pyvcf"
   ],
   "metadata": {
    "id": "8s-6rBDOvf3P",
    "outputId": "a50581f7-df28-4e62-ce88-4c5aa3c4b288",
    "colab": {
     "base_uri": "https://localhost:8080/",
     "height": 670
    }
   },
   "execution_count": 9,
   "outputs": [
    {
     "output_type": "stream",
     "name": "stdout",
     "text": [
      "Collecting setuptools<58\n",
      "  Downloading setuptools-57.5.0-py3-none-any.whl (819 kB)\n",
      "\u001B[2K     \u001B[90m━━━━━━━━━━━━━━━━━━━━━━━━━━━━━━━━━━━━━━━━\u001B[0m \u001B[32m819.3/819.3 kB\u001B[0m \u001B[31m9.3 MB/s\u001B[0m eta \u001B[36m0:00:00\u001B[0m\n",
      "\u001B[?25hInstalling collected packages: setuptools\n",
      "  Attempting uninstall: setuptools\n",
      "    Found existing installation: setuptools 67.7.2\n",
      "    Uninstalling setuptools-67.7.2:\n",
      "      Successfully uninstalled setuptools-67.7.2\n",
      "\u001B[31mERROR: pip's dependency resolver does not currently take into account all the packages that are installed. This behaviour is the source of the following dependency conflicts.\n",
      "ipython 7.34.0 requires jedi>=0.16, which is not installed.\n",
      "lida 0.0.10 requires fastapi, which is not installed.\n",
      "lida 0.0.10 requires kaleido, which is not installed.\n",
      "lida 0.0.10 requires python-multipart, which is not installed.\n",
      "lida 0.0.10 requires uvicorn, which is not installed.\n",
      "arviz 0.15.1 requires setuptools>=60.0.0, but you have setuptools 57.5.0 which is incompatible.\n",
      "cvxpy 1.3.2 requires setuptools>65.5.1, but you have setuptools 57.5.0 which is incompatible.\u001B[0m\u001B[31m\n",
      "\u001B[0mSuccessfully installed setuptools-57.5.0\n"
     ]
    },
    {
     "output_type": "display_data",
     "data": {
      "application/vnd.colab-display-data+json": {
       "pip_warning": {
        "packages": [
         "_distutils_hack",
         "pkg_resources",
         "setuptools"
        ]
       }
      }
     },
     "metadata": {}
    },
    {
     "output_type": "stream",
     "name": "stdout",
     "text": [
      "\u001B[33mWARNING: Skipping pyvcf as it is not installed.\u001B[0m\u001B[33m\n",
      "\u001B[0mCollecting pyvcf\n",
      "  Using cached PyVCF-0.6.8.tar.gz (34 kB)\n",
      "  Preparing metadata (setup.py) ... \u001B[?25l\u001B[?25hdone\n",
      "Requirement already satisfied: setuptools in /usr/local/lib/python3.10/dist-packages (from pyvcf) (57.5.0)\n",
      "Building wheels for collected packages: pyvcf\n",
      "  Building wheel for pyvcf (setup.py) ... \u001B[?25l\u001B[?25hdone\n",
      "  Created wheel for pyvcf: filename=PyVCF-0.6.8-cp310-cp310-linux_x86_64.whl size=174435 sha256=56b0f9e8ea2d9cefd436b7a41ce039a2448cea9e234b8e548bcec2b5d43b0635\n",
      "  Stored in directory: /root/.cache/pip/wheels/da/88/3b/b691691894da44fc597c93ba7f953a46d1413ed7411906a6d2\n",
      "Successfully built pyvcf\n",
      "Installing collected packages: pyvcf\n",
      "Successfully installed pyvcf-0.6.8\n"
     ]
    }
   ]
  },
  {
   "cell_type": "code",
   "metadata": {
    "id": "NpEQ3rtI9BI6",
    "outputId": "cd0e884c-38d2-49a9-9191-af213b8ed7e1",
    "colab": {
     "base_uri": "https://localhost:8080/"
    }
   },
   "source": [
    "!pip install  gffutils biopython pandas pyfastx\n",
    "!git clone https://github.com/tkzeng/Pangolin.git\n",
    "%cd Pangolin\n",
    "!pip install .\n",
    "%cd /content"
   ],
   "execution_count": 13,
   "outputs": [
    {
     "output_type": "stream",
     "name": "stdout",
     "text": [
      "Collecting gffutils\n",
      "  Downloading gffutils-0.12-py3-none-any.whl (1.6 MB)\n",
      "\u001B[2K     \u001B[90m━━━━━━━━━━━━━━━━━━━━━━━━━━━━━━━━━━━━━━━━\u001B[0m \u001B[32m1.6/1.6 MB\u001B[0m \u001B[31m21.0 MB/s\u001B[0m eta \u001B[36m0:00:00\u001B[0m\n",
      "\u001B[?25hCollecting biopython\n",
      "  Downloading biopython-1.81-cp310-cp310-manylinux_2_17_x86_64.manylinux2014_x86_64.whl (3.1 MB)\n",
      "\u001B[2K     \u001B[90m━━━━━━━━━━━━━━━━━━━━━━━━━━━━━━━━━━━━━━━━\u001B[0m \u001B[32m3.1/3.1 MB\u001B[0m \u001B[31m83.2 MB/s\u001B[0m eta \u001B[36m0:00:00\u001B[0m\n",
      "\u001B[?25hRequirement already satisfied: pandas in /usr/local/lib/python3.10/dist-packages (1.5.3)\n",
      "Collecting pyfastx\n",
      "  Downloading pyfastx-2.0.2-cp310-cp310-manylinux_2_17_x86_64.manylinux2014_x86_64.whl (1.1 MB)\n",
      "\u001B[2K     \u001B[90m━━━━━━━━━━━━━━━━━━━━━━━━━━━━━━━━━━━━━━━━\u001B[0m \u001B[32m1.1/1.1 MB\u001B[0m \u001B[31m72.4 MB/s\u001B[0m eta \u001B[36m0:00:00\u001B[0m\n",
      "\u001B[?25hCollecting pyfaidx>=0.5.5.2 (from gffutils)\n",
      "  Downloading pyfaidx-0.7.2.2-py3-none-any.whl (28 kB)\n",
      "Requirement already satisfied: six>=1.12.0 in /usr/local/lib/python3.10/dist-packages (from gffutils) (1.16.0)\n",
      "Collecting argh>=0.26.2 (from gffutils)\n",
      "  Downloading argh-0.30.4-py3-none-any.whl (44 kB)\n",
      "\u001B[2K     \u001B[90m━━━━━━━━━━━━━━━━━━━━━━━━━━━━━━━━━━━━━━━━\u001B[0m \u001B[32m44.6/44.6 kB\u001B[0m \u001B[31m6.6 MB/s\u001B[0m eta \u001B[36m0:00:00\u001B[0m\n",
      "\u001B[?25hCollecting argcomplete>=1.9.4 (from gffutils)\n",
      "  Downloading argcomplete-3.1.6-py3-none-any.whl (41 kB)\n",
      "\u001B[2K     \u001B[90m━━━━━━━━━━━━━━━━━━━━━━━━━━━━━━━━━━━━━━━━\u001B[0m \u001B[32m41.7/41.7 kB\u001B[0m \u001B[31m5.5 MB/s\u001B[0m eta \u001B[36m0:00:00\u001B[0m\n",
      "\u001B[?25hCollecting simplejson (from gffutils)\n",
      "  Downloading simplejson-3.19.2-cp310-cp310-manylinux_2_5_x86_64.manylinux1_x86_64.manylinux_2_17_x86_64.manylinux2014_x86_64.whl (137 kB)\n",
      "\u001B[2K     \u001B[90m━━━━━━━━━━━━━━━━━━━━━━━━━━━━━━━━━━━━━━━━\u001B[0m \u001B[32m137.9/137.9 kB\u001B[0m \u001B[31m18.8 MB/s\u001B[0m eta \u001B[36m0:00:00\u001B[0m\n",
      "\u001B[?25hRequirement already satisfied: numpy in /usr/local/lib/python3.10/dist-packages (from biopython) (1.23.5)\n",
      "Requirement already satisfied: python-dateutil>=2.8.1 in /usr/local/lib/python3.10/dist-packages (from pandas) (2.8.2)\n",
      "Requirement already satisfied: pytz>=2020.1 in /usr/local/lib/python3.10/dist-packages (from pandas) (2023.3.post1)\n",
      "Requirement already satisfied: setuptools in /usr/local/lib/python3.10/dist-packages (from pyfaidx>=0.5.5.2->gffutils) (57.5.0)\n",
      "Requirement already satisfied: importlib-metadata in /usr/local/lib/python3.10/dist-packages (from pyfaidx>=0.5.5.2->gffutils) (6.8.0)\n",
      "Requirement already satisfied: zipp>=0.5 in /usr/local/lib/python3.10/dist-packages (from importlib-metadata->pyfaidx>=0.5.5.2->gffutils) (3.17.0)\n",
      "Installing collected packages: pyfastx, simplejson, biopython, argh, argcomplete, pyfaidx, gffutils\n",
      "Successfully installed argcomplete-3.1.6 argh-0.30.4 biopython-1.81 gffutils-0.12 pyfaidx-0.7.2.2 pyfastx-2.0.2 simplejson-3.19.2\n",
      "fatal: destination path 'Pangolin' already exists and is not an empty directory.\n",
      "/content/Pangolin\n",
      "Processing /content/Pangolin\n",
      "  Preparing metadata (setup.py) ... \u001B[?25l\u001B[?25hdone\n",
      "Building wheels for collected packages: pangolin\n",
      "  Building wheel for pangolin (setup.py) ... \u001B[?25l\u001B[?25hdone\n",
      "  Created wheel for pangolin: filename=pangolin-1.0.2-py3-none-any.whl size=167816625 sha256=6247caf478ea3a6b05a68a2725e061d0e545334d8082b0f726bec88cf657656f\n",
      "  Stored in directory: /tmp/pip-ephem-wheel-cache-22kq_gga/wheels/29/bd/84/04e909acb5c7a9dbc365a79fc1c9bf3a282c94f5c8058148cc\n",
      "Successfully built pangolin\n",
      "Installing collected packages: pangolin\n",
      "  Attempting uninstall: pangolin\n",
      "    Found existing installation: pangolin 1.0.2\n",
      "    Uninstalling pangolin-1.0.2:\n",
      "      Successfully uninstalled pangolin-1.0.2\n",
      "Successfully installed pangolin-1.0.2\n",
      "/content\n"
     ]
    }
   ]
  },
  {
   "cell_type": "code",
   "metadata": {
    "id": "fbyc3ygj9Fpr",
    "outputId": "7a0ca58c-3db7-4b54-c703-02d9c7a99d7c",
    "colab": {
     "base_uri": "https://localhost:8080/"
    },
    "ExecuteTime": {
     "end_time": "2023-12-03T15:09:51.225072025Z",
     "start_time": "2023-12-03T15:09:31.290809547Z"
    }
   },
   "source": [
    "# GRCh37 files\n",
    "!wget ftp://ftp.ebi.ac.uk/pub/databases/gencode/Gencode_human/release_30/GRCh37_mapping/GRCh37.primary_assembly.genome.fa.gz\n",
    "!wget https://www.dropbox.com/sh/6zo0aegoalvgd9f/AAA9Q90Pi1UqSzX99R_NM803a/gencode.v38lift37.annotation.db\n",
    "\n",
    "# GRCh38 files\n",
    "#!wget https://ftp.ebi.ac.uk/pub/databases/gencode/Gencode_human/release_38/GRCh38.primary_assembly.genome.fa.gz\n",
    "#!wget https://www.dropbox.com/sh/6zo0aegoalvgd9f/AADOhGYJo8tbUhpscp3wSFj6a/gencode.v38.annotation.db"
   ],
   "execution_count": 1,
   "outputs": [
    {
     "name": "stdout",
     "output_type": "stream",
     "text": [
      "--2023-12-03 16:09:31--  ftp://ftp.ebi.ac.uk/pub/databases/gencode/Gencode_human/release_30/GRCh37_mapping/GRCh37.primary_assembly.genome.fa.gz\r\n",
      "           => ‘GRCh37.primary_assembly.genome.fa.gz’\r\n",
      "Resolving ftp.ebi.ac.uk (ftp.ebi.ac.uk)... ^C\r\n",
      "--2023-12-03 16:09:46--  https://www.dropbox.com/sh/6zo0aegoalvgd9f/AAA9Q90Pi1UqSzX99R_NM803a/gencode.v38lift37.annotation.db\r\n",
      "Resolving www.dropbox.com (www.dropbox.com)... ^C\r\n"
     ]
    }
   ]
  },
  {
   "cell_type": "code",
   "metadata": {
    "id": "mJhWjTEv_Ktv",
    "outputId": "df27ed8d-e5ab-4dad-f2aa-8573fd5d67bc",
    "colab": {
     "base_uri": "https://localhost:8080/"
    }
   },
   "source": [
    "!pangolin Pangolin/examples/brca.csv GRCh37.primary_assembly.genome.fa.gz gencode.v38lift37.annotation.db brca.pangolin"
   ],
   "execution_count": 14,
   "outputs": [
    {
     "output_type": "stream",
     "name": "stdout",
     "text": [
      "Using GPU\n"
     ]
    }
   ]
  },
  {
   "cell_type": "code",
   "metadata": {
    "id": "wfxo0oT8_dBL",
    "outputId": "3787a591-99af-4c92-cff8-a4ee38f5963a",
    "colab": {
     "base_uri": "https://localhost:8080/"
    }
   },
   "source": [
    "# View the last few lines of the output VCF\n",
    "!tail brca.pangolin.csv"
   ],
   "execution_count": 19,
   "outputs": [
    {
     "output_type": "stream",
     "name": "stdout",
     "text": [
      "BRCA1,17,41276127,A,G,ENSG00000012048.23_1|6:0.009999999776482582|5:-0.0|Warnings:\n",
      "BRCA1,17,41276127,A,C,ENSG00000012048.23_1|-8:0.0|5:-0.05999999865889549|Warnings:\n",
      "BRCA1,17,41276126,C,T,ENSG00000012048.23_1|-2:0.12999999523162842|6:-0.07000000029802322|Warnings:\n",
      "BRCA1,17,41276126,C,G,ENSG00000012048.23_1|-7:0.23000000417232513|6:-0.05000000074505806|Warnings:\n",
      "BRCA1,17,41276126,C,A,ENSG00000012048.23_1|-7:0.47999998927116394|6:-0.1599999964237213|Warnings:\n",
      "BRCA1,17,41276125,C,T,ENSG00000012048.23_1|-6:0.03999999910593033|7:-0.05000000074505806|Warnings:\n",
      "BRCA1,17,41276125,C,G,ENSG00000012048.23_1|-6:0.07999999821186066|7:-0.029999999329447746|Warnings:\n",
      "BRCA1,17,41276125,C,A,ENSG00000012048.23_1|-6:0.23999999463558197|7:-0.25999999046325684|Warnings:\n",
      "BRCA1,17,41276124,T,G,ENSG00000012048.23_1|-5:0.019999999552965164|8:-0.05000000074505806|Warnings:\n",
      "BRCA1,17,41276124,T,C,ENSG00000012048.23_1|4:0.0|8:-0.03999999910593033|Warnings:\n"
     ]
    }
   ]
  }
 ]
}
